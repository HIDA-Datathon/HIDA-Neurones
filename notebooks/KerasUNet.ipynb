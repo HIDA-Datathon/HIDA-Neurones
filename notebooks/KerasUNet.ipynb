{
 "cells": [
  {
   "cell_type": "code",
   "execution_count": 1,
   "metadata": {},
   "outputs": [
    {
     "name": "stderr",
     "output_type": "stream",
     "text": [
      "/p/software/jusuf/stages/Devel-2019a/software/TensorFlow/1.13.1-GCCcore-8.3.0-GPU-Python-3.6.8/lib/python3.6/site-packages/tensorflow/python/framework/dtypes.py:526: FutureWarning: Passing (type, 1) or '1type' as a synonym of type is deprecated; in a future version of numpy, it will be understood as (type, (1,)) / '(1,)type'.\n",
      "  _np_qint8 = np.dtype([(\"qint8\", np.int8, 1)])\n",
      "/p/software/jusuf/stages/Devel-2019a/software/TensorFlow/1.13.1-GCCcore-8.3.0-GPU-Python-3.6.8/lib/python3.6/site-packages/tensorflow/python/framework/dtypes.py:527: FutureWarning: Passing (type, 1) or '1type' as a synonym of type is deprecated; in a future version of numpy, it will be understood as (type, (1,)) / '(1,)type'.\n",
      "  _np_quint8 = np.dtype([(\"quint8\", np.uint8, 1)])\n",
      "/p/software/jusuf/stages/Devel-2019a/software/TensorFlow/1.13.1-GCCcore-8.3.0-GPU-Python-3.6.8/lib/python3.6/site-packages/tensorflow/python/framework/dtypes.py:528: FutureWarning: Passing (type, 1) or '1type' as a synonym of type is deprecated; in a future version of numpy, it will be understood as (type, (1,)) / '(1,)type'.\n",
      "  _np_qint16 = np.dtype([(\"qint16\", np.int16, 1)])\n",
      "/p/software/jusuf/stages/Devel-2019a/software/TensorFlow/1.13.1-GCCcore-8.3.0-GPU-Python-3.6.8/lib/python3.6/site-packages/tensorflow/python/framework/dtypes.py:529: FutureWarning: Passing (type, 1) or '1type' as a synonym of type is deprecated; in a future version of numpy, it will be understood as (type, (1,)) / '(1,)type'.\n",
      "  _np_quint16 = np.dtype([(\"quint16\", np.uint16, 1)])\n",
      "/p/software/jusuf/stages/Devel-2019a/software/TensorFlow/1.13.1-GCCcore-8.3.0-GPU-Python-3.6.8/lib/python3.6/site-packages/tensorflow/python/framework/dtypes.py:530: FutureWarning: Passing (type, 1) or '1type' as a synonym of type is deprecated; in a future version of numpy, it will be understood as (type, (1,)) / '(1,)type'.\n",
      "  _np_qint32 = np.dtype([(\"qint32\", np.int32, 1)])\n",
      "/p/software/jusuf/stages/Devel-2019a/software/TensorFlow/1.13.1-GCCcore-8.3.0-GPU-Python-3.6.8/lib/python3.6/site-packages/tensorflow/python/framework/dtypes.py:535: FutureWarning: Passing (type, 1) or '1type' as a synonym of type is deprecated; in a future version of numpy, it will be understood as (type, (1,)) / '(1,)type'.\n",
      "  np_resource = np.dtype([(\"resource\", np.ubyte, 1)])\n"
     ]
    }
   ],
   "source": [
    "# From https://idiotdeveloper.com/unet-segmentation-with-pretrained-mobilenetv2-as-encoder/\n",
    "%load_ext autoreload\n",
    "%autoreload 2\n",
    "import os\n",
    "#os.environ[\"CUDA_VISIBLE_DEVICES\"]=\"-1\"\n",
    "DATAPATH = '../../ufz_im_challenge/photos_annotated'\n",
    "import sys\n",
    "sys.path.insert(0,'../')\n",
    "\n",
    "from src.utils.kerasDataLoader import DataGenerator\n",
    "import src.utils.keras_losses as Loss\n",
    "\n",
    "import numpy as np\n",
    "from glob import glob\n",
    "import tensorflow as tf\n",
    "import matplotlib.pyplot as plt\n",
    "\n",
    "from tensorflow.keras.layers import Conv2D, Activation, BatchNormalization, MaxPooling2D\n",
    "from tensorflow.keras.layers import UpSampling2D, Input, Concatenate, Dropout, concatenate\n",
    "from tensorflow.keras.models import Model\n",
    "from tensorflow.keras.applications import MobileNetV2, mobilenet_v2\n",
    "from tensorflow.keras.callbacks import EarlyStopping, ReduceLROnPlateau, ModelCheckpoint\n",
    "from tensorflow.keras.metrics import Recall, Precision\n",
    "\n",
    "from tensorflow.keras import backend as K\n",
    "import numpy as np\n",
    "\n",
    "IMAGESIZE = (224, 224)"
   ]
  },
  {
   "cell_type": "code",
   "execution_count": 2,
   "metadata": {},
   "outputs": [],
   "source": [
    "if os.path.isfile('models/weights/mobilenetweights.h5'):\n",
    "    MODELPATH = 'models/weights/mobilenetweights.h5'\n",
    "else:\n",
    "    if not os.path.isdir('models/weights/'):\n",
    "        os.makedirs('models/weights/')\n",
    "    mobilenet = tf.keras.applications.mobilenet_v2.MobileNetV2(input_shape=(224, 224, 3), include_top=False, weights='imagenet')\n",
    "    mobilenet.save_weights('models/weights/mobilenetweights.h5')\n",
    "    MODELPATH = 'models/weights/mobilenetweights.h5'"
   ]
  },
  {
   "cell_type": "code",
   "execution_count": null,
   "metadata": {},
   "outputs": [],
   "source": []
  },
  {
   "cell_type": "code",
   "execution_count": 3,
   "metadata": {},
   "outputs": [],
   "source": [
    "try:\n",
    "    from albumentations import (\n",
    "        HorizontalFlip, IAAPerspective, ShiftScaleRotate, CLAHE, RandomRotate90,\n",
    "        Transpose, ShiftScaleRotate, Blur, OpticalDistortion, GridDistortion, HueSaturationValue,\n",
    "        IAAAdditiveGaussianNoise, GaussNoise, MotionBlur, MedianBlur, IAAPiecewiseAffine,\n",
    "        IAASharpen, IAAEmboss, RandomBrightnessContrast, Flip, OneOf, Compose\n",
    "    )\n",
    "\n",
    "    def augmentations(p=0.5):\n",
    "        return Compose([\n",
    "            Flip(),\n",
    "            OneOf([\n",
    "                GaussNoise(),\n",
    "            ], p=0.2),\n",
    "            OneOf([\n",
    "                MotionBlur(p=0.2),\n",
    "                MedianBlur(blur_limit=3, p=0.1),\n",
    "                Blur(blur_limit=3, p=0.1),\n",
    "            ], p=0.2),\n",
    "            OneOf([\n",
    "                CLAHE(clip_limit=2),\n",
    "                IAASharpen(),\n",
    "                IAAEmboss(),\n",
    "                RandomBrightnessContrast(),\n",
    "            ], p=0.3),\n",
    "            HueSaturationValue(p=0.3),\n",
    "        ], p=p)\n",
    "    \n",
    "except:\n",
    "        augmentations = None\n"
   ]
  },
  {
   "cell_type": "code",
   "execution_count": 5,
   "metadata": {},
   "outputs": [],
   "source": [
    "def make_model(image_size, n_classes = 22, MODELPATH=MODELPATH):\n",
    "    inputs = Input(shape=(*image_size, 3), name=MODELPATH)\n",
    "    preproc_layer = tf.keras.layers.Lambda(mobilenet_v2.preprocess_input, name=\"input_image\")(inputs) # Preprocessing function\n",
    "\n",
    "    encoder = MobileNetV2(input_tensor=preproc_layer, weights=None, include_top=False, alpha=1.0)\n",
    "    skip_connection_names = [\"input_image\", \n",
    "                             \"block_1_expand_relu\", \n",
    "                             \"block_3_expand_relu\", \n",
    "                             \"block_6_expand_relu\"]\n",
    "    \n",
    "    encoder_output = encoder.get_layer(\"block_13_expand_relu\").output\n",
    "    \n",
    "    f = [32, 64, 128, 256]\n",
    "    x = encoder_output\n",
    "    \n",
    "    for i in range(1, len(skip_connection_names)+1, 1):\n",
    "        x_skip = encoder.get_layer(skip_connection_names[-i]).output\n",
    "        x = UpSampling2D((2, 2))(x)\n",
    "        x = Concatenate()([x, x_skip])\n",
    "        \n",
    "        x = Conv2D(f[-i], (3, 3), padding=\"same\")(x)\n",
    "        x = BatchNormalization()(x)\n",
    "        x = Activation(\"relu\")(x)\n",
    "        \n",
    "        x = Conv2D(f[-i], (3, 3), padding=\"same\")(x)\n",
    "        x = BatchNormalization()(x)\n",
    "        x = Activation(\"relu\")(x)\n",
    "\n",
    "   # x = tf.keras.layers.Dropout(0.25)(x)\n",
    "        \n",
    "    x = Conv2D(n_classes, (1, 1), padding=\"same\")(x)\n",
    "    x = tf.keras.layers.Softmax(axis=-1)(x)\n",
    "    \n",
    "    model = Model(inputs, x)\n",
    "    return model"
   ]
  },
  {
   "cell_type": "code",
   "execution_count": 71,
   "metadata": {},
   "outputs": [],
   "source": [
    "def dice_coef_binary(y_true, y_pred, smooth=1e-7):\n",
    "    '''\n",
    "    Dice coefficient for 2 categories. Ignores background pixel label 0\n",
    "    Pass to model as metric during compile statement\n",
    "    '''\n",
    "    y_true_f = K.flatten(y_true)\n",
    "    y_pred_f = K.flatten(y_pred)\n",
    "    intersect = K.sum(y_true_f * y_pred_f, axis=-1)\n",
    "    denom = K.sum(y_true_f + y_pred_f, axis=-1)\n",
    "    return K.mean((2. * intersect / (denom + smooth)))\n",
    "\n",
    "\n",
    "def dice_coef_binary_loss(y_true, y_pred):\n",
    "    '''\n",
    "    Dice loss to minimize. Pass to model as loss during compile statement\n",
    "    '''\n",
    "    return 1 - dice_coef_binary(y_true, y_pred)\n",
    "\n",
    "\n",
    "# Add binary cross entropy\n",
    "\n",
    "def BCE_dice(y_true, y_pred):\n",
    "    cce = K.categorical_crossentropy(y_true[:, :, :], y_pred[:, :, :])\n",
    "    dice = Loss.dice_loss(y_true[:, :, :], y_pred[:, :, :])\n",
    "    dice2 = dice_coef_binary_loss(y_true, y_pred)\n",
    "    #dice2 = dice_coef_binary_loss(y_true[:, :, 1:], y_pred[:, :, 1:])\n",
    "    \n",
    "    return  0.33 * dice + 0.33 * cce + 0.33 * dice2 "
   ]
  },
  {
   "cell_type": "code",
   "execution_count": 72,
   "metadata": {},
   "outputs": [],
   "source": [
    "model = make_model(image_size=IMAGESIZE)\n",
    "\n",
    "opt = tf.keras.optimizers.Adam(0.1)\n",
    "\n",
    "metrics = [Loss.dice_coef, tf.keras.metrics.Recall(), tf.keras.metrics.Precision()]\n",
    "model.compile(loss=BCE_dice, optimizer=opt, metrics=metrics)\n",
    "\n",
    "callbacks = [\n",
    "    ReduceLROnPlateau(monitor='val_loss', factor=0.1, patience=4),\n",
    "    EarlyStopping(monitor='val_loss', patience=10, restore_best_weights=False, verbose=0),\n",
    "    ModelCheckpoint('models/kerasUnet2', monitor='val_loss', verbose=1, save_best_only=False)\n",
    "]"
   ]
  },
  {
   "cell_type": "code",
   "execution_count": 73,
   "metadata": {},
   "outputs": [
    {
     "data": {
      "application/vnd.jupyter.widget-view+json": {
       "model_id": "c1641eb3bb904c7184e21d30baa019ce",
       "version_major": 2,
       "version_minor": 0
      },
      "text/plain": [
       "HBox(children=(HTML(value='Loading images'), FloatProgress(value=0.0, max=663.0), HTML(value='')))"
      ]
     },
     "metadata": {},
     "output_type": "display_data"
    },
    {
     "name": "stdout",
     "output_type": "stream",
     "text": [
      "\n"
     ]
    },
    {
     "data": {
      "application/vnd.jupyter.widget-view+json": {
       "model_id": "ca28158c73b14d9cb49509d4382dfa75",
       "version_major": 2,
       "version_minor": 0
      },
      "text/plain": [
       "HBox(children=(HTML(value='Loading images'), FloatProgress(value=0.0, max=83.0), HTML(value='')))"
      ]
     },
     "metadata": {},
     "output_type": "display_data"
    },
    {
     "name": "stdout",
     "output_type": "stream",
     "text": [
      "\n"
     ]
    }
   ],
   "source": [
    "train_dataset = DataGenerator(datapath= DATAPATH,  batch_size=32, shuffle=True, augmentation=augmentations, preprocessing=None, image_size=IMAGESIZE)\n",
    "valid_dataset = DataGenerator(datapath= DATAPATH, step='valid', shuffle=False, preprocessing=None, image_size=IMAGESIZE)"
   ]
  },
  {
   "cell_type": "code",
   "execution_count": null,
   "metadata": {},
   "outputs": [],
   "source": [
    "model.fit(\n",
    "    train_dataset,\n",
    "    validation_data=valid_dataset,\n",
    "    epochs=120,\n",
    "    callbacks=callbacks\n",
    ")"
   ]
  },
  {
   "cell_type": "code",
   "execution_count": null,
   "metadata": {},
   "outputs": [],
   "source": [
    "test_dataset = DataGenerator(datapath= DATAPATH, step='test', shuffle=False, preprocessing=None, image_size=IMAGESIZE)"
   ]
  },
  {
   "cell_type": "code",
   "execution_count": null,
   "metadata": {},
   "outputs": [],
   "source": []
  },
  {
   "cell_type": "code",
   "execution_count": 43,
   "metadata": {},
   "outputs": [],
   "source": [
    "pred = model.predict(test_dataset)"
   ]
  },
  {
   "cell_type": "code",
   "execution_count": 53,
   "metadata": {},
   "outputs": [
    {
     "name": "stdout",
     "output_type": "stream",
     "text": [
      "83/83 [==============================] - 1s 15ms/step - loss: 0.9578 - dice_coef: 0.5245 - recall_5: 0.4961 - precision_5: 0.6525\n"
     ]
    },
    {
     "data": {
      "text/plain": [
       "[0.9578226833458406, 0.5245266, 0.49608943, 0.652492]"
      ]
     },
     "execution_count": 53,
     "metadata": {},
     "output_type": "execute_result"
    }
   ],
   "source": [
    "model.evaluate(test_dataset)"
   ]
  },
  {
   "cell_type": "code",
   "execution_count": 44,
   "metadata": {},
   "outputs": [],
   "source": [
    "x = test_dataset.images\n",
    "y = test_dataset.labels"
   ]
  },
  {
   "cell_type": "code",
   "execution_count": 66,
   "metadata": {},
   "outputs": [
    {
     "data": {
      "text/plain": [
       "<matplotlib.image.AxesImage at 0x2acc0af07e10>"
      ]
     },
     "execution_count": 66,
     "metadata": {},
     "output_type": "execute_result"
    },
    {
     "data": {
      "image/png": "[encoded data removed]",
      "text/plain": [
       "<Figure size 432x288 with 3 Axes>"
      ]
     },
     "metadata": {
      "needs_background": "light"
     },
     "output_type": "display_data"
    }
   ],
   "source": [
    "viz_idx = 5\n",
    "plt.subplot(131)\n",
    "plt.imshow(x[viz_idx].squeeze())\n",
    "plt.subplot(132)\n",
    "plt.imshow(np.argmax(pred[viz_idx], -1).squeeze())\n",
    "plt.subplot(133)\n",
    "plt.imshow(np.argmax(y[viz_idx], -1).squeeze())\n"
   ]
  }
 ],
 "metadata": {
  "kernelspec": {
   "display_name": "datathon",
   "language": "python",
   "name": "datathon"
  },
  "language_info": {
   "codemirror_mode": {
    "name": "ipython",
    "version": 3
   },
   "file_extension": ".py",
   "mimetype": "text/x-python",
   "name": "python",
   "nbconvert_exporter": "python",
   "pygments_lexer": "ipython3",
   "version": "3.6.8"
  }
 },
 "nbformat": 4,
 "nbformat_minor": 4
}
