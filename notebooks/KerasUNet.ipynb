{
 "cells": [
  {
   "cell_type": "code",
   "execution_count": 1,
   "metadata": {},
   "outputs": [
    {
     "name": "stderr",
     "output_type": "stream",
     "text": [
      "/p/software/jusuf/stages/Devel-2019a/software/TensorFlow/1.13.1-GCCcore-8.3.0-GPU-Python-3.6.8/lib/python3.6/site-packages/tensorflow/python/framework/dtypes.py:526: FutureWarning: Passing (type, 1) or '1type' as a synonym of type is deprecated; in a future version of numpy, it will be understood as (type, (1,)) / '(1,)type'.\n",
      "  _np_qint8 = np.dtype([(\"qint8\", np.int8, 1)])\n",
      "/p/software/jusuf/stages/Devel-2019a/software/TensorFlow/1.13.1-GCCcore-8.3.0-GPU-Python-3.6.8/lib/python3.6/site-packages/tensorflow/python/framework/dtypes.py:527: FutureWarning: Passing (type, 1) or '1type' as a synonym of type is deprecated; in a future version of numpy, it will be understood as (type, (1,)) / '(1,)type'.\n",
      "  _np_quint8 = np.dtype([(\"quint8\", np.uint8, 1)])\n",
      "/p/software/jusuf/stages/Devel-2019a/software/TensorFlow/1.13.1-GCCcore-8.3.0-GPU-Python-3.6.8/lib/python3.6/site-packages/tensorflow/python/framework/dtypes.py:528: FutureWarning: Passing (type, 1) or '1type' as a synonym of type is deprecated; in a future version of numpy, it will be understood as (type, (1,)) / '(1,)type'.\n",
      "  _np_qint16 = np.dtype([(\"qint16\", np.int16, 1)])\n",
      "/p/software/jusuf/stages/Devel-2019a/software/TensorFlow/1.13.1-GCCcore-8.3.0-GPU-Python-3.6.8/lib/python3.6/site-packages/tensorflow/python/framework/dtypes.py:529: FutureWarning: Passing (type, 1) or '1type' as a synonym of type is deprecated; in a future version of numpy, it will be understood as (type, (1,)) / '(1,)type'.\n",
      "  _np_quint16 = np.dtype([(\"quint16\", np.uint16, 1)])\n",
      "/p/software/jusuf/stages/Devel-2019a/software/TensorFlow/1.13.1-GCCcore-8.3.0-GPU-Python-3.6.8/lib/python3.6/site-packages/tensorflow/python/framework/dtypes.py:530: FutureWarning: Passing (type, 1) or '1type' as a synonym of type is deprecated; in a future version of numpy, it will be understood as (type, (1,)) / '(1,)type'.\n",
      "  _np_qint32 = np.dtype([(\"qint32\", np.int32, 1)])\n",
      "/p/software/jusuf/stages/Devel-2019a/software/TensorFlow/1.13.1-GCCcore-8.3.0-GPU-Python-3.6.8/lib/python3.6/site-packages/tensorflow/python/framework/dtypes.py:535: FutureWarning: Passing (type, 1) or '1type' as a synonym of type is deprecated; in a future version of numpy, it will be understood as (type, (1,)) / '(1,)type'.\n",
      "  np_resource = np.dtype([(\"resource\", np.ubyte, 1)])\n"
     ]
    }
   ],
   "source": [
    "# From https://idiotdeveloper.com/unet-segmentation-with-pretrained-mobilenetv2-as-encoder/\n",
    "%load_ext autoreload\n",
    "%autoreload 2\n",
    "import os\n",
    "#os.environ[\"CUDA_VISIBLE_DEVICES\"]=\"-1\"\n",
    "DATAPATH = '../../ufz_im_challenge/photos_annotated'\n",
    "import sys\n",
    "sys.path.insert(0,'../')\n",
    "\n",
    "from src.utils.kerasDataLoader import DataGenerator\n",
    "import src.utils.keras_losses as Loss\n",
    "\n",
    "import numpy as np\n",
    "from glob import glob\n",
    "import tensorflow as tf\n",
    "import matplotlib.pyplot as plt\n",
    "\n",
    "from tensorflow.keras.layers import Conv2D, Activation, BatchNormalization, MaxPooling2D\n",
    "from tensorflow.keras.layers import UpSampling2D, Input, Concatenate, Dropout, concatenate\n",
    "from tensorflow.keras.models import Model\n",
    "from tensorflow.keras.applications import MobileNetV2, mobilenet_v2\n",
    "from tensorflow.keras.callbacks import EarlyStopping, ReduceLROnPlateau, ModelCheckpoint\n",
    "from tensorflow.keras.metrics import Recall, Precision\n",
    "\n",
    "from tensorflow.keras import backend as K\n",
    "import numpy as np\n",
    "\n",
    "IMAGESIZE = (224, 224)"
   ]
  },
  {
   "cell_type": "code",
   "execution_count": 2,
   "metadata": {},
   "outputs": [],
   "source": [
    "if os.path.isfile('models/weights/mobilenetweights.h5'):\n",
    "    MODELPATH = 'models/weights/mobilenetweights.h5'\n",
    "else:\n",
    "    if not os.path.isdir('models/weights/'):\n",
    "        os.makedirs('models/weights/')\n",
    "    mobilenet = tf.keras.applications.mobilenet_v2.MobileNetV2(input_shape=(224, 224, 3), include_top=False, weights='imagenet')\n",
    "    mobilenet.save_weights('models/weights/mobilenetweights.h5')\n",
    "    MODELPATH = 'models/weights/mobilenetweights.h5'"
   ]
  },
  {
   "cell_type": "code",
   "execution_count": null,
   "metadata": {},
   "outputs": [],
   "source": []
  },
  {
   "cell_type": "code",
   "execution_count": 3,
   "metadata": {},
   "outputs": [],
   "source": [
    "try:\n",
    "    from albumentations import (\n",
    "        HorizontalFlip, IAAPerspective, ShiftScaleRotate, CLAHE, RandomRotate90,\n",
    "        Transpose, ShiftScaleRotate, Blur, OpticalDistortion, GridDistortion, HueSaturationValue,\n",
    "        IAAAdditiveGaussianNoise, GaussNoise, MotionBlur, MedianBlur, IAAPiecewiseAffine,\n",
    "        IAASharpen, IAAEmboss, RandomBrightnessContrast, Flip, OneOf, Compose\n",
    "    )\n",
    "\n",
    "    def augmentations(p=0.5):\n",
    "        return Compose([\n",
    "            Flip(),\n",
    "            OneOf([\n",
    "                GaussNoise(),\n",
    "            ], p=0.2),\n",
    "            OneOf([\n",
    "                MotionBlur(p=0.2),\n",
    "                MedianBlur(blur_limit=3, p=0.1),\n",
    "                Blur(blur_limit=3, p=0.1),\n",
    "            ], p=0.2),\n",
    "            OneOf([\n",
    "                CLAHE(clip_limit=2),\n",
    "                IAASharpen(),\n",
    "                IAAEmboss(),\n",
    "                RandomBrightnessContrast(),\n",
    "            ], p=0.3),\n",
    "            HueSaturationValue(p=0.3),\n",
    "        ], p=p)\n",
    "    \n",
    "except:\n",
    "        augmentations = None\n"
   ]
  },
  {
   "cell_type": "code",
   "execution_count": 4,
   "metadata": {},
   "outputs": [],
   "source": []
  },
  {
   "cell_type": "code",
   "execution_count": null,
   "metadata": {},
   "outputs": [],
   "source": []
  },
  {
   "cell_type": "code",
   "execution_count": 4,
   "metadata": {},
   "outputs": [
    {
     "name": "stdout",
     "output_type": "stream",
     "text": [
      "WARNING:tensorflow:From /p/software/jusuf/stages/Devel-2019a/software/TensorFlow/1.13.1-GCCcore-8.3.0-GPU-Python-3.6.8/lib/python3.6/site-packages/tensorflow/python/ops/resource_variable_ops.py:435: colocate_with (from tensorflow.python.framework.ops) is deprecated and will be removed in a future version.\n",
      "Instructions for updating:\n",
      "Colocations handled automatically by placer.\n"
     ]
    }
   ],
   "source": [
    "model = Loss.make_model(image_size=IMAGESIZE, MODELPATH=None)\n",
    "\n",
    "opt = tf.keras.optimizers.Adam(0.01)\n",
    "\n",
    "metrics = [Loss.dice_coef, tf.keras.metrics.Recall(), tf.keras.metrics.Precision()]\n",
    "model.compile(loss=Loss.BCE_dice, optimizer=opt, metrics=metrics)\n",
    "\n",
    "callbacks = [\n",
    "    ReduceLROnPlateau(monitor='val_loss', factor=0.1, patience=4),\n",
    "    EarlyStopping(monitor='val_loss', patience=10, restore_best_weights=False, verbose=0),\n",
    "    ModelCheckpoint('models/kerasUnet2', monitor='val_loss', verbose=1, save_best_only=False)\n",
    "]"
   ]
  },
  {
   "cell_type": "code",
   "execution_count": 6,
   "metadata": {},
   "outputs": [
    {
     "data": {
      "application/vnd.jupyter.widget-view+json": {
       "model_id": "7304e16c2e7b4b9f967ebcf694a47848",
       "version_major": 2,
       "version_minor": 0
      },
      "text/plain": [
       "HBox(children=(HTML(value='Loading images'), FloatProgress(value=0.0, max=663.0), HTML(value='')))"
      ]
     },
     "metadata": {},
     "output_type": "display_data"
    },
    {
     "name": "stdout",
     "output_type": "stream",
     "text": [
      "\n"
     ]
    },
    {
     "data": {
      "application/vnd.jupyter.widget-view+json": {
       "model_id": "84a710a816e04a748f3b698448d31ae1",
       "version_major": 2,
       "version_minor": 0
      },
      "text/plain": [
       "HBox(children=(HTML(value='Loading images'), FloatProgress(value=0.0, max=83.0), HTML(value='')))"
      ]
     },
     "metadata": {},
     "output_type": "display_data"
    },
    {
     "name": "stdout",
     "output_type": "stream",
     "text": [
      "\n"
     ]
    }
   ],
   "source": [
    "train_dataset = DataGenerator(datapath= DATAPATH,  batch_size=32, shuffle=True, augmentation=augmentations, preprocessing=mobilenet_v2.preprocess_input, image_size=IMAGESIZE)\n",
    "valid_dataset = DataGenerator(datapath= DATAPATH, step='valid', shuffle=False, preprocessing=mobilenet_v2.preprocess_input, image_size=IMAGESIZE)"
   ]
  },
  {
   "cell_type": "code",
   "execution_count": 7,
   "metadata": {},
   "outputs": [
    {
     "name": "stdout",
     "output_type": "stream",
     "text": [
      "WARNING:tensorflow:From /p/software/jusuf/stages/Devel-2019a/software/TensorFlow/1.13.1-GCCcore-8.3.0-GPU-Python-3.6.8/lib/python3.6/site-packages/tensorflow/python/ops/math_ops.py:3066: to_int32 (from tensorflow.python.ops.math_ops) is deprecated and will be removed in a future version.\n",
      "Instructions for updating:\n",
      "Use tf.cast instead.\n",
      "Epoch 1/120\n",
      "83/83 [==============================] - 2s 26ms/step - loss: 5.7297 - dice_coef: 0.0417 - recall: 0.0417 - precision: 0.0417\n",
      "\n",
      "Epoch 00001: saving model to models/kerasUnet2\n",
      "20/20 [==============================] - 32s 2s/step - loss: 24.0359 - dice_coef: 0.5274 - recall: 0.5262 - precision: 0.8584 - val_loss: 5.7297 - val_dice_coef: 0.0417 - val_recall: 0.0417 - val_precision: 0.0417\n",
      "Epoch 2/120\n",
      "83/83 [==============================] - 1s 12ms/step - loss: 3.2153 - dice_coef: 0.4583 - recall: 0.4583 - precision: 0.4584\n",
      "\n",
      "Epoch 00002: saving model to models/kerasUnet2\n",
      "20/20 [==============================] - 8s 378ms/step - loss: 15.4688 - dice_coef: 0.7032 - recall: 0.7175 - precision: 0.8364 - val_loss: 3.2153 - val_dice_coef: 0.4583 - val_recall: 0.4583 - val_precision: 0.4584\n",
      "Epoch 3/120\n",
      "83/83 [==============================] - 1s 12ms/step - loss: 1.9916 - dice_coef: 0.6656 - recall: 0.6656 - precision: 0.6657\n",
      "\n",
      "Epoch 00003: saving model to models/kerasUnet2\n",
      "20/20 [==============================] - 8s 384ms/step - loss: 14.6245 - dice_coef: 0.7094 - recall: 0.7149 - precision: 0.8477 - val_loss: 1.9916 - val_dice_coef: 0.6656 - val_recall: 0.6656 - val_precision: 0.6657\n",
      "Epoch 4/120\n",
      "83/83 [==============================] - 1s 13ms/step - loss: 2.3385 - dice_coef: 0.6022 - recall: 0.6022 - precision: 0.6025\n",
      "\n",
      "Epoch 00004: saving model to models/kerasUnet2\n",
      "20/20 [==============================] - 8s 395ms/step - loss: 13.5357 - dice_coef: 0.7272 - recall: 0.7331 - precision: 0.8531 - val_loss: 2.3385 - val_dice_coef: 0.6022 - val_recall: 0.6022 - val_precision: 0.6025\n",
      "Epoch 5/120\n",
      "83/83 [==============================] - 1s 12ms/step - loss: 4.5666 - dice_coef: 0.2267 - recall: 0.2269 - precision: 0.2272\n",
      "\n",
      "Epoch 00005: saving model to models/kerasUnet2\n",
      "20/20 [==============================] - 8s 386ms/step - loss: 13.1544 - dice_coef: 0.7330 - recall: 0.7364 - precision: 0.8540 - val_loss: 4.5666 - val_dice_coef: 0.2267 - val_recall: 0.2269 - val_precision: 0.2272\n",
      "Epoch 6/120\n",
      "83/83 [==============================] - 1s 12ms/step - loss: 2.1029 - dice_coef: 0.5576 - recall: 0.5568 - precision: 0.5636\n",
      "\n",
      "Epoch 00006: saving model to models/kerasUnet2\n",
      "20/20 [==============================] - 8s 378ms/step - loss: 12.2889 - dice_coef: 0.7477 - recall: 0.7462 - precision: 0.8719 - val_loss: 2.1029 - val_dice_coef: 0.5576 - val_recall: 0.5568 - val_precision: 0.5636\n",
      "Epoch 7/120\n",
      "83/83 [==============================] - 1s 12ms/step - loss: 1.6214 - dice_coef: 0.5898 - recall: 0.5894 - precision: 0.6042\n",
      "\n",
      "Epoch 00007: saving model to models/kerasUnet2\n",
      "20/20 [==============================] - 8s 388ms/step - loss: 12.1620 - dice_coef: 0.7537 - recall: 0.7589 - precision: 0.8619 - val_loss: 1.6214 - val_dice_coef: 0.5898 - val_recall: 0.5894 - val_precision: 0.6042\n",
      "Epoch 8/120\n",
      "83/83 [==============================] - 1s 12ms/step - loss: 2.7349 - dice_coef: 0.4186 - recall: 0.4167 - precision: 0.4215\n",
      "\n",
      "Epoch 00008: saving model to models/kerasUnet2\n",
      "20/20 [==============================] - 8s 386ms/step - loss: 11.8068 - dice_coef: 0.7575 - recall: 0.7639 - precision: 0.8665 - val_loss: 2.7349 - val_dice_coef: 0.4186 - val_recall: 0.4167 - val_precision: 0.4215\n",
      "Epoch 9/120\n",
      "83/83 [==============================] - 1s 12ms/step - loss: 1.6815 - dice_coef: 0.5926 - recall: 0.5910 - precision: 0.6058\n",
      "\n",
      "Epoch 00009: saving model to models/kerasUnet2\n",
      "20/20 [==============================] - 8s 385ms/step - loss: 11.4383 - dice_coef: 0.7645 - recall: 0.7712 - precision: 0.8669 - val_loss: 1.6815 - val_dice_coef: 0.5926 - val_recall: 0.5910 - val_precision: 0.6058\n",
      "Epoch 10/120\n",
      "83/83 [==============================] - 1s 13ms/step - loss: 1.5210 - dice_coef: 0.6644 - recall: 0.6634 - precision: 0.6709\n",
      "\n",
      "Epoch 00010: saving model to models/kerasUnet2\n",
      "20/20 [==============================] - 8s 384ms/step - loss: 11.8507 - dice_coef: 0.7603 - recall: 0.7692 - precision: 0.8562 - val_loss: 1.5210 - val_dice_coef: 0.6644 - val_recall: 0.6634 - val_precision: 0.6709\n",
      "Epoch 11/120\n",
      "83/83 [==============================] - 1s 13ms/step - loss: 1.2965 - dice_coef: 0.6952 - recall: 0.6941 - precision: 0.6989\n",
      "\n",
      "Epoch 00011: saving model to models/kerasUnet2\n",
      "20/20 [==============================] - 8s 393ms/step - loss: 11.6390 - dice_coef: 0.7577 - recall: 0.7626 - precision: 0.8632 - val_loss: 1.2965 - val_dice_coef: 0.6952 - val_recall: 0.6941 - val_precision: 0.6989\n",
      "Epoch 12/120\n",
      "83/83 [==============================] - 1s 12ms/step - loss: 2.3951 - dice_coef: 0.3928 - recall: 0.3901 - precision: 0.3949\n",
      "\n",
      "Epoch 00012: saving model to models/kerasUnet2\n",
      "20/20 [==============================] - 8s 393ms/step - loss: 10.9467 - dice_coef: 0.7763 - recall: 0.7817 - precision: 0.8722 - val_loss: 2.3951 - val_dice_coef: 0.3928 - val_recall: 0.3901 - val_precision: 0.3949\n",
      "Epoch 13/120\n",
      "83/83 [==============================] - 1s 13ms/step - loss: 1.2741 - dice_coef: 0.7026 - recall: 0.7031 - precision: 0.7036\n",
      "\n",
      "Epoch 00013: saving model to models/kerasUnet2\n",
      "20/20 [==============================] - 8s 388ms/step - loss: 10.8934 - dice_coef: 0.7753 - recall: 0.7873 - precision: 0.8685 - val_loss: 1.2741 - val_dice_coef: 0.7026 - val_recall: 0.7031 - val_precision: 0.7036\n",
      "Epoch 14/120\n",
      "83/83 [==============================] - 1s 13ms/step - loss: 1.3530 - dice_coef: 0.6954 - recall: 0.6981 - precision: 0.6985\n",
      "\n",
      "Epoch 00014: saving model to models/kerasUnet2\n",
      "20/20 [==============================] - 8s 394ms/step - loss: 11.0049 - dice_coef: 0.7766 - recall: 0.7834 - precision: 0.8716 - val_loss: 1.3530 - val_dice_coef: 0.6954 - val_recall: 0.6981 - val_precision: 0.6985\n",
      "Epoch 15/120\n",
      "83/83 [==============================] - 1s 12ms/step - loss: 1.0879 - dice_coef: 0.6963 - recall: 0.6977 - precision: 0.6980\n",
      "\n",
      "Epoch 00015: saving model to models/kerasUnet2\n",
      "20/20 [==============================] - 8s 391ms/step - loss: 10.5157 - dice_coef: 0.7842 - recall: 0.7951 - precision: 0.8754 - val_loss: 1.0879 - val_dice_coef: 0.6963 - val_recall: 0.6977 - val_precision: 0.6980\n",
      "Epoch 16/120\n",
      "83/83 [==============================] - 1s 12ms/step - loss: 1.0586 - dice_coef: 0.6976 - recall: 0.6992 - precision: 0.6999\n",
      "\n",
      "Epoch 00016: saving model to models/kerasUnet2\n",
      "20/20 [==============================] - 8s 382ms/step - loss: 10.7352 - dice_coef: 0.7795 - recall: 0.7893 - precision: 0.8716 - val_loss: 1.0586 - val_dice_coef: 0.6976 - val_recall: 0.6992 - val_precision: 0.6999\n",
      "Epoch 17/120\n",
      "83/83 [==============================] - 1s 12ms/step - loss: 1.1375 - dice_coef: 0.5978 - recall: 0.5970 - precision: 0.6095\n",
      "\n",
      "Epoch 00017: saving model to models/kerasUnet2\n",
      "20/20 [==============================] - 8s 382ms/step - loss: 9.8088 - dice_coef: 0.7986 - recall: 0.8094 - precision: 0.8818 - val_loss: 1.1375 - val_dice_coef: 0.5978 - val_recall: 0.5970 - val_precision: 0.6095\n",
      "Epoch 18/120\n",
      "83/83 [==============================] - 1s 13ms/step - loss: 0.9455 - dice_coef: 0.6987 - recall: 0.6985 - precision: 0.7020\n",
      "\n",
      "Epoch 00018: saving model to models/kerasUnet2\n",
      "20/20 [==============================] - 8s 387ms/step - loss: 10.0441 - dice_coef: 0.7967 - recall: 0.8042 - precision: 0.8789 - val_loss: 0.9455 - val_dice_coef: 0.6987 - val_recall: 0.6985 - val_precision: 0.7020\n",
      "Epoch 19/120\n",
      "83/83 [==============================] - 1s 13ms/step - loss: 2.5070 - dice_coef: 0.3855 - recall: 0.3824 - precision: 0.3859\n",
      "\n",
      "Epoch 00019: saving model to models/kerasUnet2\n",
      "20/20 [==============================] - 8s 386ms/step - loss: 9.9927 - dice_coef: 0.7937 - recall: 0.8001 - precision: 0.8853 - val_loss: 2.5070 - val_dice_coef: 0.3855 - val_recall: 0.3824 - val_precision: 0.3859\n",
      "Epoch 20/120\n",
      "83/83 [==============================] - 1s 13ms/step - loss: 2.3294 - dice_coef: 0.4049 - recall: 0.4015 - precision: 0.4075\n",
      "\n",
      "Epoch 00020: saving model to models/kerasUnet2\n",
      "20/20 [==============================] - 8s 399ms/step - loss: 9.5820 - dice_coef: 0.8028 - recall: 0.8126 - precision: 0.8818 - val_loss: 2.3294 - val_dice_coef: 0.4049 - val_recall: 0.4015 - val_precision: 0.4075\n",
      "Epoch 21/120\n",
      "83/83 [==============================] - 1s 13ms/step - loss: 0.8975 - dice_coef: 0.7084 - recall: 0.7107 - precision: 0.7167\n",
      "\n",
      "Epoch 00021: saving model to models/kerasUnet2\n",
      "20/20 [==============================] - 8s 391ms/step - loss: 9.8682 - dice_coef: 0.7974 - recall: 0.8074 - precision: 0.8799 - val_loss: 0.8975 - val_dice_coef: 0.7084 - val_recall: 0.7107 - val_precision: 0.7167\n",
      "Epoch 22/120\n",
      "83/83 [==============================] - 1s 12ms/step - loss: 1.0406 - dice_coef: 0.6903 - recall: 0.6911 - precision: 0.7043\n",
      "\n",
      "Epoch 00022: saving model to models/kerasUnet2\n",
      "20/20 [==============================] - 8s 384ms/step - loss: 9.5564 - dice_coef: 0.8034 - recall: 0.8109 - precision: 0.8866 - val_loss: 1.0406 - val_dice_coef: 0.6903 - val_recall: 0.6911 - val_precision: 0.7043\n",
      "Epoch 23/120\n",
      "83/83 [==============================] - 1s 13ms/step - loss: 0.8846 - dice_coef: 0.7059 - recall: 0.7072 - precision: 0.7129\n",
      "\n",
      "Epoch 00023: saving model to models/kerasUnet2\n",
      "20/20 [==============================] - 8s 386ms/step - loss: 9.2329 - dice_coef: 0.8089 - recall: 0.8160 - precision: 0.8897 - val_loss: 0.8846 - val_dice_coef: 0.7059 - val_recall: 0.7072 - val_precision: 0.7129\n",
      "Epoch 24/120\n",
      "83/83 [==============================] - 1s 13ms/step - loss: 1.0501 - dice_coef: 0.6705 - recall: 0.6707 - precision: 0.6790\n",
      "\n",
      "Epoch 00024: saving model to models/kerasUnet2\n",
      "20/20 [==============================] - 8s 388ms/step - loss: 9.2526 - dice_coef: 0.8098 - recall: 0.8196 - precision: 0.8880 - val_loss: 1.0501 - val_dice_coef: 0.6705 - val_recall: 0.6707 - val_precision: 0.6790\n",
      "Epoch 25/120\n",
      "83/83 [==============================] - 1s 12ms/step - loss: 0.7702 - dice_coef: 0.7052 - recall: 0.7088 - precision: 0.7140\n",
      "\n",
      "Epoch 00025: saving model to models/kerasUnet2\n",
      "20/20 [==============================] - 8s 390ms/step - loss: 9.1474 - dice_coef: 0.8113 - recall: 0.8173 - precision: 0.8929 - val_loss: 0.7702 - val_dice_coef: 0.7052 - val_recall: 0.7088 - val_precision: 0.7140\n",
      "Epoch 26/120\n",
      "83/83 [==============================] - 1s 12ms/step - loss: 2.8441 - dice_coef: 0.3054 - recall: 0.3069 - precision: 0.3086\n",
      "\n",
      "Epoch 00026: saving model to models/kerasUnet2\n",
      "20/20 [==============================] - 8s 392ms/step - loss: 8.9889 - dice_coef: 0.8166 - recall: 0.8242 - precision: 0.8924 - val_loss: 2.8441 - val_dice_coef: 0.3054 - val_recall: 0.3069 - val_precision: 0.3086\n",
      "Epoch 27/120\n",
      "83/83 [==============================] - 1s 13ms/step - loss: 1.0461 - dice_coef: 0.6578 - recall: 0.6608 - precision: 0.6706\n",
      "\n",
      "Epoch 00027: saving model to models/kerasUnet2\n",
      "20/20 [==============================] - 8s 387ms/step - loss: 8.8714 - dice_coef: 0.8165 - recall: 0.8245 - precision: 0.8927 - val_loss: 1.0461 - val_dice_coef: 0.6578 - val_recall: 0.6608 - val_precision: 0.6706\n",
      "Epoch 28/120\n",
      "83/83 [==============================] - 1s 13ms/step - loss: 1.3728 - dice_coef: 0.5526 - recall: 0.5535 - precision: 0.5676\n",
      "\n",
      "Epoch 00028: saving model to models/kerasUnet2\n",
      "20/20 [==============================] - 8s 397ms/step - loss: 8.9686 - dice_coef: 0.8144 - recall: 0.8212 - precision: 0.8920 - val_loss: 1.3728 - val_dice_coef: 0.5526 - val_recall: 0.5535 - val_precision: 0.5676\n",
      "Epoch 29/120\n",
      "83/83 [==============================] - 1s 12ms/step - loss: 1.5310 - dice_coef: 0.4618 - recall: 0.4689 - precision: 0.4981\n",
      "\n",
      "Epoch 00029: saving model to models/kerasUnet2\n",
      "20/20 [==============================] - 9s 431ms/step - loss: 8.9431 - dice_coef: 0.8154 - recall: 0.8244 - precision: 0.8886 - val_loss: 1.5310 - val_dice_coef: 0.4618 - val_recall: 0.4689 - val_precision: 0.4981\n",
      "Epoch 30/120\n",
      "83/83 [==============================] - 1s 12ms/step - loss: 1.7045 - dice_coef: 0.4430 - recall: 0.4455 - precision: 0.4654\n",
      "\n",
      "Epoch 00030: saving model to models/kerasUnet2\n",
      "20/20 [==============================] - 8s 387ms/step - loss: 8.4998 - dice_coef: 0.8230 - recall: 0.8338 - precision: 0.8944 - val_loss: 1.7045 - val_dice_coef: 0.4430 - val_recall: 0.4455 - val_precision: 0.4654\n",
      "Epoch 31/120\n",
      "83/83 [==============================] - 1s 13ms/step - loss: 1.6264 - dice_coef: 0.4207 - recall: 0.4249 - precision: 0.4516\n",
      "\n",
      "Epoch 00031: saving model to models/kerasUnet2\n",
      "20/20 [==============================] - 8s 383ms/step - loss: 8.1225 - dice_coef: 0.8277 - recall: 0.8375 - precision: 0.9027 - val_loss: 1.6264 - val_dice_coef: 0.4207 - val_recall: 0.4249 - val_precision: 0.4516\n",
      "Epoch 32/120\n",
      "83/83 [==============================] - 1s 13ms/step - loss: 1.4879 - dice_coef: 0.4529 - recall: 0.4570 - precision: 0.4863\n",
      "\n",
      "Epoch 00032: saving model to models/kerasUnet2\n",
      "20/20 [==============================] - 8s 393ms/step - loss: 7.7152 - dice_coef: 0.8367 - recall: 0.8461 - precision: 0.9091 - val_loss: 1.4879 - val_dice_coef: 0.4529 - val_recall: 0.4570 - val_precision: 0.4863\n",
      "Epoch 33/120\n",
      "83/83 [==============================] - 1s 12ms/step - loss: 1.4561 - dice_coef: 0.4537 - recall: 0.4569 - precision: 0.4875\n",
      "\n",
      "Epoch 00033: saving model to models/kerasUnet2\n",
      "20/20 [==============================] - 8s 384ms/step - loss: 7.6059 - dice_coef: 0.8391 - recall: 0.8491 - precision: 0.9086 - val_loss: 1.4561 - val_dice_coef: 0.4537 - val_recall: 0.4569 - val_precision: 0.4875\n",
      "Epoch 34/120\n",
      "83/83 [==============================] - 1s 12ms/step - loss: 1.3775 - dice_coef: 0.4684 - recall: 0.4710 - precision: 0.5039\n",
      "\n",
      "Epoch 00034: saving model to models/kerasUnet2\n",
      "20/20 [==============================] - 8s 389ms/step - loss: 7.6949 - dice_coef: 0.8368 - recall: 0.8467 - precision: 0.9086 - val_loss: 1.3775 - val_dice_coef: 0.4684 - val_recall: 0.4710 - val_precision: 0.5039\n",
      "Epoch 35/120\n",
      "83/83 [==============================] - 1s 12ms/step - loss: 1.3095 - dice_coef: 0.4836 - recall: 0.4859 - precision: 0.5204\n",
      "\n",
      "Epoch 00035: saving model to models/kerasUnet2\n",
      "20/20 [==============================] - 8s 388ms/step - loss: 7.5307 - dice_coef: 0.8398 - recall: 0.8492 - precision: 0.9116 - val_loss: 1.3095 - val_dice_coef: 0.4836 - val_recall: 0.4859 - val_precision: 0.5204\n"
     ]
    },
    {
     "data": {
      "text/plain": [
       "<tensorflow.python.keras.callbacks.History at 0x2b4f9b2edb38>"
      ]
     },
     "execution_count": 7,
     "metadata": {},
     "output_type": "execute_result"
    }
   ],
   "source": [
    "model.fit(\n",
    "    train_dataset,\n",
    "    validation_data=valid_dataset,\n",
    "    epochs=120,\n",
    "    callbacks=callbacks\n",
    ")"
   ]
  },
  {
   "cell_type": "code",
   "execution_count": 8,
   "metadata": {},
   "outputs": [
    {
     "data": {
      "application/vnd.jupyter.widget-view+json": {
       "model_id": "9f9aa98442a14eebbc97dc2b49e9aa18",
       "version_major": 2,
       "version_minor": 0
      },
      "text/plain": [
       "HBox(children=(HTML(value='Loading images'), FloatProgress(value=0.0, max=83.0), HTML(value='')))"
      ]
     },
     "metadata": {},
     "output_type": "display_data"
    },
    {
     "name": "stdout",
     "output_type": "stream",
     "text": [
      "\n"
     ]
    }
   ],
   "source": [
    "test_dataset = DataGenerator(datapath= DATAPATH, step='test', shuffle=False, preprocessing=mobilenet_v2.preprocess_input, image_size=IMAGESIZE)"
   ]
  },
  {
   "cell_type": "code",
   "execution_count": null,
   "metadata": {},
   "outputs": [],
   "source": []
  },
  {
   "cell_type": "code",
   "execution_count": 9,
   "metadata": {},
   "outputs": [],
   "source": [
    "pred = model.predict(test_dataset)"
   ]
  },
  {
   "cell_type": "code",
   "execution_count": 10,
   "metadata": {},
   "outputs": [
    {
     "name": "stdout",
     "output_type": "stream",
     "text": [
      "83/83 [==============================] - 1s 13ms/step - loss: 1.3611 - dice_coef: 0.4919 - recall: 0.5012 - precision: 0.5353\n"
     ]
    },
    {
     "data": {
      "text/plain": [
       "[1.3610512686063008, 0.49187732, 0.50120395, 0.535269]"
      ]
     },
     "execution_count": 10,
     "metadata": {},
     "output_type": "execute_result"
    }
   ],
   "source": [
    "model.evaluate(test_dataset)"
   ]
  },
  {
   "cell_type": "code",
   "execution_count": 11,
   "metadata": {},
   "outputs": [],
   "source": [
    "x = test_dataset.images\n",
    "y = test_dataset.labels"
   ]
  },
  {
   "cell_type": "code",
   "execution_count": 12,
   "metadata": {},
   "outputs": [
    {
     "data": {
      "text/plain": [
       "<matplotlib.image.AxesImage at 0x2b51b3f81128>"
      ]
     },
     "execution_count": 12,
     "metadata": {},
     "output_type": "execute_result"
    },
    {
     "data": {
      "image/png": "[encoded data removed]",
      "text/plain": [
       "<Figure size 432x288 with 3 Axes>"
      ]
     },
     "metadata": {
      "needs_background": "light"
     },
     "output_type": "display_data"
    }
   ],
   "source": [
    "viz_idx = 7\n",
    "plt.subplot(131)\n",
    "plt.imshow(x[viz_idx].squeeze())\n",
    "plt.subplot(132)\n",
    "plt.imshow(np.argmax(pred[viz_idx], -1).squeeze())\n",
    "plt.subplot(133)\n",
    "plt.imshow(np.argmax(y[viz_idx], -1).squeeze())\n"
   ]
  },
  {
   "cell_type": "code",
   "execution_count": 14,
   "metadata": {},
   "outputs": [],
   "source": [
    "model.compile(loss='categorical_crossentropy', optimizer=opt, metrics=metrics)\n",
    "model.save_weights('models/final_keras.h5')"
   ]
  },
  {
   "cell_type": "code",
   "execution_count": null,
   "metadata": {},
   "outputs": [],
   "source": []
  }
 ],
 "metadata": {
  "kernelspec": {
   "display_name": "datathon",
   "language": "python",
   "name": "datathon"
  },
  "language_info": {
   "codemirror_mode": {
    "name": "ipython",
    "version": 3
   },
   "file_extension": ".py",
   "mimetype": "text/x-python",
   "name": "python",
   "nbconvert_exporter": "python",
   "pygments_lexer": "ipython3",
   "version": "3.6.8"
  }
 },
 "nbformat": 4,
 "nbformat_minor": 4
}
