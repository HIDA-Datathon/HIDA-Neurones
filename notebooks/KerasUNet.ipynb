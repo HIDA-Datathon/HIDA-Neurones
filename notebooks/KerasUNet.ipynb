{
 "cells": [
  {
   "cell_type": "code",
   "execution_count": 1,
   "metadata": {},
   "outputs": [
    {
     "name": "stderr",
     "output_type": "stream",
     "text": [
      "/p/software/jusuf/stages/Devel-2019a/software/TensorFlow/1.13.1-GCCcore-8.3.0-GPU-Python-3.6.8/lib/python3.6/site-packages/tensorflow/python/framework/dtypes.py:526: FutureWarning: Passing (type, 1) or '1type' as a synonym of type is deprecated; in a future version of numpy, it will be understood as (type, (1,)) / '(1,)type'.\n",
      "  _np_qint8 = np.dtype([(\"qint8\", np.int8, 1)])\n",
      "/p/software/jusuf/stages/Devel-2019a/software/TensorFlow/1.13.1-GCCcore-8.3.0-GPU-Python-3.6.8/lib/python3.6/site-packages/tensorflow/python/framework/dtypes.py:527: FutureWarning: Passing (type, 1) or '1type' as a synonym of type is deprecated; in a future version of numpy, it will be understood as (type, (1,)) / '(1,)type'.\n",
      "  _np_quint8 = np.dtype([(\"quint8\", np.uint8, 1)])\n",
      "/p/software/jusuf/stages/Devel-2019a/software/TensorFlow/1.13.1-GCCcore-8.3.0-GPU-Python-3.6.8/lib/python3.6/site-packages/tensorflow/python/framework/dtypes.py:528: FutureWarning: Passing (type, 1) or '1type' as a synonym of type is deprecated; in a future version of numpy, it will be understood as (type, (1,)) / '(1,)type'.\n",
      "  _np_qint16 = np.dtype([(\"qint16\", np.int16, 1)])\n",
      "/p/software/jusuf/stages/Devel-2019a/software/TensorFlow/1.13.1-GCCcore-8.3.0-GPU-Python-3.6.8/lib/python3.6/site-packages/tensorflow/python/framework/dtypes.py:529: FutureWarning: Passing (type, 1) or '1type' as a synonym of type is deprecated; in a future version of numpy, it will be understood as (type, (1,)) / '(1,)type'.\n",
      "  _np_quint16 = np.dtype([(\"quint16\", np.uint16, 1)])\n",
      "/p/software/jusuf/stages/Devel-2019a/software/TensorFlow/1.13.1-GCCcore-8.3.0-GPU-Python-3.6.8/lib/python3.6/site-packages/tensorflow/python/framework/dtypes.py:530: FutureWarning: Passing (type, 1) or '1type' as a synonym of type is deprecated; in a future version of numpy, it will be understood as (type, (1,)) / '(1,)type'.\n",
      "  _np_qint32 = np.dtype([(\"qint32\", np.int32, 1)])\n",
      "/p/software/jusuf/stages/Devel-2019a/software/TensorFlow/1.13.1-GCCcore-8.3.0-GPU-Python-3.6.8/lib/python3.6/site-packages/tensorflow/python/framework/dtypes.py:535: FutureWarning: Passing (type, 1) or '1type' as a synonym of type is deprecated; in a future version of numpy, it will be understood as (type, (1,)) / '(1,)type'.\n",
      "  np_resource = np.dtype([(\"resource\", np.ubyte, 1)])\n"
     ]
    }
   ],
   "source": [
    "# From https://idiotdeveloper.com/unet-segmentation-with-pretrained-mobilenetv2-as-encoder/\n",
    "%load_ext autoreload\n",
    "%autoreload 2\n",
    "import os\n",
    "#os.environ[\"CUDA_VISIBLE_DEVICES\"]=\"-1\"\n",
    "DATAPATH = '../../ufz_im_challenge/photos_annotated'\n",
    "import sys\n",
    "sys.path.insert(0,'../')\n",
    "\n",
    "from src.utils.kerasDataLoader import DataGenerator\n",
    "import src.utils.keras_losses as Loss\n",
    "\n",
    "import numpy as np\n",
    "from glob import glob\n",
    "import tensorflow as tf\n",
    "import matplotlib.pyplot as plt\n",
    "\n",
    "from tensorflow.keras.layers import Conv2D, Activation, BatchNormalization, MaxPooling2D\n",
    "from tensorflow.keras.layers import UpSampling2D, Input, Concatenate, Dropout, concatenate\n",
    "from tensorflow.keras.models import Model\n",
    "from tensorflow.keras.applications import MobileNetV2, mobilenet_v2\n",
    "from tensorflow.keras.callbacks import EarlyStopping, ReduceLROnPlateau, ModelCheckpoint\n",
    "from tensorflow.keras.metrics import Recall, Precision\n",
    "\n",
    "from tensorflow.keras import backend as K\n",
    "import numpy as np\n",
    "\n",
    "IMAGESIZE = (224, 224)"
   ]
  },
  {
   "cell_type": "code",
   "execution_count": 2,
   "metadata": {},
   "outputs": [],
   "source": [
    "if os.path.isfile('models/weights/mobilenetweights.h5'):\n",
    "    MODELPATH = 'models/weights/mobilenetweights.h5'\n",
    "else:\n",
    "    if not os.path.isdir('models/weights/'):\n",
    "        os.makedirs('models/weights/')\n",
    "    mobilenet = tf.keras.applications.mobilenet_v2.MobileNetV2(input_shape=(224, 224, 3), include_top=False, weights='imagenet')\n",
    "    mobilenet.save_weights('models/weights/mobilenetweights.h5')\n",
    "    MODELPATH = 'models/weights/mobilenetweights.h5'"
   ]
  },
  {
   "cell_type": "code",
   "execution_count": null,
   "metadata": {},
   "outputs": [],
   "source": []
  },
  {
   "cell_type": "code",
   "execution_count": 3,
   "metadata": {},
   "outputs": [],
   "source": [
    "try:\n",
    "    from albumentations import (\n",
    "        HorizontalFlip, IAAPerspective, ShiftScaleRotate, CLAHE, RandomRotate90,\n",
    "        Transpose, ShiftScaleRotate, Blur, OpticalDistortion, GridDistortion, HueSaturationValue,\n",
    "        IAAAdditiveGaussianNoise, GaussNoise, MotionBlur, MedianBlur, IAAPiecewiseAffine,\n",
    "        IAASharpen, IAAEmboss, RandomBrightnessContrast, Flip, OneOf, Compose\n",
    "    )\n",
    "\n",
    "    def augmentations(p=0.5):\n",
    "        return Compose([\n",
    "            Flip(),\n",
    "            OneOf([\n",
    "                GaussNoise(),\n",
    "            ], p=0.2),\n",
    "            OneOf([\n",
    "                MotionBlur(p=0.2),\n",
    "                MedianBlur(blur_limit=3, p=0.1),\n",
    "                Blur(blur_limit=3, p=0.1),\n",
    "            ], p=0.2),\n",
    "            OneOf([\n",
    "                CLAHE(clip_limit=2),\n",
    "                IAASharpen(),\n",
    "                IAAEmboss(),\n",
    "                RandomBrightnessContrast(),\n",
    "            ], p=0.3),\n",
    "            HueSaturationValue(p=0.3),\n",
    "        ], p=p)\n",
    "    \n",
    "except:\n",
    "        augmentations = None\n"
   ]
  },
  {
   "cell_type": "code",
   "execution_count": null,
   "metadata": {},
   "outputs": [],
   "source": []
  },
  {
   "cell_type": "code",
   "execution_count": null,
   "metadata": {},
   "outputs": [],
   "source": []
  },
  {
   "cell_type": "code",
   "execution_count": 4,
   "metadata": {},
   "outputs": [
    {
     "name": "stdout",
     "output_type": "stream",
     "text": [
      "WARNING:tensorflow:From /p/software/jusuf/stages/Devel-2019a/software/TensorFlow/1.13.1-GCCcore-8.3.0-GPU-Python-3.6.8/lib/python3.6/site-packages/tensorflow/python/ops/resource_variable_ops.py:435: colocate_with (from tensorflow.python.framework.ops) is deprecated and will be removed in a future version.\n",
      "Instructions for updating:\n",
      "Colocations handled automatically by placer.\n"
     ]
    }
   ],
   "source": [
    "model = Loss.make_model(image_size=IMAGESIZE, MODELPATH=None)\n",
    "\n",
    "opt = tf.keras.optimizers.Adam(0.1)\n",
    "\n",
    "metrics = [Loss.dice_coef, tf.keras.metrics.Recall(), tf.keras.metrics.Precision()]\n",
    "model.compile(loss=Loss.BCE_dice, optimizer=opt, metrics=metrics)\n",
    "\n",
    "callbacks = [\n",
    "    ReduceLROnPlateau(monitor='val_loss', factor=0.1, patience=4),\n",
    "    EarlyStopping(monitor='val_loss', patience=10, restore_best_weights=False, verbose=0),\n",
    "    ModelCheckpoint('models/kerasUnet2', monitor='val_loss', verbose=1, save_best_only=False)\n",
    "]"
   ]
  },
  {
   "cell_type": "code",
   "execution_count": 5,
   "metadata": {},
   "outputs": [
    {
     "data": {
      "application/vnd.jupyter.widget-view+json": {
       "model_id": "93a12de281a34f6ca748c227b5653832",
       "version_major": 2,
       "version_minor": 0
      },
      "text/plain": [
       "HBox(children=(HTML(value='Loading images'), FloatProgress(value=0.0, max=663.0), HTML(value='')))"
      ]
     },
     "metadata": {},
     "output_type": "display_data"
    },
    {
     "name": "stdout",
     "output_type": "stream",
     "text": [
      "\n"
     ]
    },
    {
     "data": {
      "application/vnd.jupyter.widget-view+json": {
       "model_id": "bcfc4a586d9f45ad9b2dad00bef8ead8",
       "version_major": 2,
       "version_minor": 0
      },
      "text/plain": [
       "HBox(children=(HTML(value='Loading images'), FloatProgress(value=0.0, max=83.0), HTML(value='')))"
      ]
     },
     "metadata": {},
     "output_type": "display_data"
    },
    {
     "name": "stdout",
     "output_type": "stream",
     "text": [
      "\n"
     ]
    }
   ],
   "source": [
    "train_dataset = DataGenerator(datapath= DATAPATH,  batch_size=32, shuffle=True, augmentation=augmentations, preprocessing=mobilenet_v2.preprocess_input, image_size=IMAGESIZE)\n",
    "valid_dataset = DataGenerator(datapath= DATAPATH, step='valid', shuffle=False, preprocessing=mobilenet_v2.preprocess_input, image_size=IMAGESIZE)"
   ]
  },
  {
   "cell_type": "code",
   "execution_count": null,
   "metadata": {},
   "outputs": [
    {
     "name": "stdout",
     "output_type": "stream",
     "text": [
      "WARNING:tensorflow:From /p/software/jusuf/stages/Devel-2019a/software/TensorFlow/1.13.1-GCCcore-8.3.0-GPU-Python-3.6.8/lib/python3.6/site-packages/tensorflow/python/ops/math_ops.py:3066: to_int32 (from tensorflow.python.ops.math_ops) is deprecated and will be removed in a future version.\n",
      "Instructions for updating:\n",
      "Use tf.cast instead.\n",
      "Epoch 1/120\n",
      "83/83 [==============================] - 2s 25ms/step - loss: 5.6919 - dice_coef: 0.0480 - recall: 0.0480 - precision: 0.0480\n",
      "\n",
      "Epoch 00001: saving model to models/kerasUnet2\n",
      "20/20 [==============================] - 36s 2s/step - loss: 24.2074 - dice_coef: 0.5347 - recall: 0.4910 - precision: 0.8399 - val_loss: 5.6919 - val_dice_coef: 0.0480 - val_recall: 0.0480 - val_precision: 0.0480\n",
      "Epoch 2/120\n",
      "83/83 [==============================] - 1s 13ms/step - loss: 5.7294 - dice_coef: 0.0417 - recall: 0.0417 - precision: 0.0417\n",
      "\n",
      "Epoch 00002: saving model to models/kerasUnet2\n",
      "20/20 [==============================] - 8s 389ms/step - loss: 18.0808 - dice_coef: 0.6351 - recall: 0.6049 - precision: 0.8394 - val_loss: 5.7294 - val_dice_coef: 0.0417 - val_recall: 0.0417 - val_precision: 0.0417\n",
      "Epoch 3/120\n",
      "83/83 [==============================] - 1s 12ms/step - loss: 5.7297 - dice_coef: 0.0417 - recall: 0.0417 - precision: 0.0417\n",
      "\n",
      "Epoch 00003: saving model to models/kerasUnet2\n",
      "20/20 [==============================] - 8s 387ms/step - loss: 15.8391 - dice_coef: 0.6831 - recall: 0.6850 - precision: 0.8333 - val_loss: 5.7297 - val_dice_coef: 0.0417 - val_recall: 0.0417 - val_precision: 0.0417\n",
      "Epoch 4/120\n",
      "83/83 [==============================] - 1s 12ms/step - loss: 5.7102 - dice_coef: 0.0433 - recall: 0.0433 - precision: 0.0433\n",
      "\n",
      "Epoch 00004: saving model to models/kerasUnet2\n",
      "20/20 [==============================] - 8s 382ms/step - loss: 14.1288 - dice_coef: 0.7146 - recall: 0.7159 - precision: 0.8530 - val_loss: 5.7102 - val_dice_coef: 0.0433 - val_recall: 0.0433 - val_precision: 0.0433\n",
      "Epoch 5/120\n",
      "83/83 [==============================] - 1s 12ms/step - loss: 5.6482 - dice_coef: 0.0455 - recall: 0.0454 - precision: 0.0454\n",
      "\n",
      "Epoch 00005: saving model to models/kerasUnet2\n",
      "20/20 [==============================] - 7s 374ms/step - loss: 13.6582 - dice_coef: 0.7230 - recall: 0.7216 - precision: 0.8518 - val_loss: 5.6482 - val_dice_coef: 0.0455 - val_recall: 0.0454 - val_precision: 0.0454\n",
      "Epoch 6/120\n",
      "83/83 [==============================] - 1s 13ms/step - loss: 4.5879 - dice_coef: 0.1140 - recall: 0.1139 - precision: 0.1152\n",
      "\n",
      "Epoch 00006: saving model to models/kerasUnet2\n",
      "20/20 [==============================] - 8s 379ms/step - loss: 14.0041 - dice_coef: 0.7190 - recall: 0.7209 - precision: 0.8506 - val_loss: 4.5879 - val_dice_coef: 0.1140 - val_recall: 0.1139 - val_precision: 0.1152\n",
      "Epoch 7/120\n",
      "83/83 [==============================] - 1s 12ms/step - loss: 4.9331 - dice_coef: 0.0572 - recall: 0.0556 - precision: 0.0558\n",
      "\n",
      "Epoch 00007: saving model to models/kerasUnet2\n",
      "20/20 [==============================] - 8s 378ms/step - loss: 13.0013 - dice_coef: 0.7362 - recall: 0.7349 - precision: 0.8603 - val_loss: 4.9331 - val_dice_coef: 0.0572 - val_recall: 0.0556 - val_precision: 0.0558\n",
      "Epoch 8/120\n",
      "83/83 [==============================] - 1s 12ms/step - loss: 5.4596 - dice_coef: 0.0582 - recall: 0.0580 - precision: 0.0582\n",
      "\n",
      "Epoch 00008: saving model to models/kerasUnet2\n",
      "20/20 [==============================] - 8s 379ms/step - loss: 12.9954 - dice_coef: 0.7346 - recall: 0.7345 - precision: 0.8562 - val_loss: 5.4596 - val_dice_coef: 0.0582 - val_recall: 0.0580 - val_precision: 0.0582\n",
      "Epoch 9/120\n",
      "83/83 [==============================] - 1s 12ms/step - loss: 5.2773 - dice_coef: 0.0538 - recall: 0.0527 - precision: 0.0535\n",
      "\n",
      "Epoch 00009: saving model to models/kerasUnet2\n",
      "20/20 [==============================] - 8s 384ms/step - loss: 12.6184 - dice_coef: 0.7444 - recall: 0.7492 - precision: 0.8531 - val_loss: 5.2773 - val_dice_coef: 0.0538 - val_recall: 0.0527 - val_precision: 0.0535\n",
      "Epoch 10/120\n",
      "83/83 [==============================] - 1s 12ms/step - loss: 5.2585 - dice_coef: 0.0520 - recall: 0.0503 - precision: 0.0519\n",
      "\n",
      "Epoch 00010: saving model to models/kerasUnet2\n",
      "20/20 [==============================] - 8s 411ms/step - loss: 12.6988 - dice_coef: 0.7423 - recall: 0.7447 - precision: 0.8514 - val_loss: 5.2585 - val_dice_coef: 0.0520 - val_recall: 0.0503 - val_precision: 0.0519\n",
      "Epoch 11/120\n",
      "83/83 [==============================] - 1s 12ms/step - loss: 4.3694 - dice_coef: 0.0947 - recall: 0.0900 - precision: 0.0940\n",
      "\n",
      "Epoch 00011: saving model to models/kerasUnet2\n",
      "20/20 [==============================] - 8s 379ms/step - loss: 11.6388 - dice_coef: 0.7589 - recall: 0.7614 - precision: 0.8591 - val_loss: 4.3694 - val_dice_coef: 0.0947 - val_recall: 0.0900 - val_precision: 0.0940\n",
      "Epoch 12/120\n",
      "83/83 [==============================] - 1s 13ms/step - loss: 2.6952 - dice_coef: 0.1826 - recall: 0.1729 - precision: 0.1822\n",
      "\n",
      "Epoch 00012: saving model to models/kerasUnet2\n",
      "20/20 [==============================] - 8s 384ms/step - loss: 11.2568 - dice_coef: 0.7639 - recall: 0.7712 - precision: 0.8716 - val_loss: 2.6952 - val_dice_coef: 0.1826 - val_recall: 0.1729 - val_precision: 0.1822\n",
      "Epoch 13/120\n",
      "83/83 [==============================] - 1s 12ms/step - loss: 2.1035 - dice_coef: 0.3075 - recall: 0.3114 - precision: 0.3255\n",
      "\n",
      "Epoch 00013: saving model to models/kerasUnet2\n",
      "20/20 [==============================] - 8s 380ms/step - loss: 11.1064 - dice_coef: 0.7675 - recall: 0.7777 - precision: 0.8656 - val_loss: 2.1035 - val_dice_coef: 0.3075 - val_recall: 0.3114 - val_precision: 0.3255\n",
      "Epoch 14/120\n",
      "83/83 [==============================] - 1s 12ms/step - loss: 1.6204 - dice_coef: 0.4404 - recall: 0.4450 - precision: 0.4677\n",
      "\n",
      "Epoch 00014: saving model to models/kerasUnet2\n",
      "20/20 [==============================] - 8s 378ms/step - loss: 10.7947 - dice_coef: 0.7759 - recall: 0.7880 - precision: 0.8657 - val_loss: 1.6204 - val_dice_coef: 0.4404 - val_recall: 0.4450 - val_precision: 0.4677\n",
      "Epoch 15/120\n",
      "83/83 [==============================] - 1s 12ms/step - loss: 1.4802 - dice_coef: 0.4811 - recall: 0.4903 - precision: 0.5156\n",
      "\n",
      "Epoch 00015: saving model to models/kerasUnet2\n",
      "20/20 [==============================] - 8s 382ms/step - loss: 10.5293 - dice_coef: 0.7802 - recall: 0.7900 - precision: 0.8730 - val_loss: 1.4802 - val_dice_coef: 0.4811 - val_recall: 0.4903 - val_precision: 0.5156\n",
      "Epoch 16/120\n",
      "83/83 [==============================] - 1s 12ms/step - loss: 1.4054 - dice_coef: 0.5175 - recall: 0.5213 - precision: 0.5452\n",
      "\n",
      "Epoch 00016: saving model to models/kerasUnet2\n",
      "20/20 [==============================] - 8s 382ms/step - loss: 10.3805 - dice_coef: 0.7833 - recall: 0.7925 - precision: 0.8752 - val_loss: 1.4054 - val_dice_coef: 0.5175 - val_recall: 0.5213 - val_precision: 0.5452\n",
      "Epoch 17/120\n",
      "83/83 [==============================] - 1s 12ms/step - loss: 1.3658 - dice_coef: 0.5349 - recall: 0.5342 - precision: 0.5535\n",
      "\n",
      "Epoch 00017: saving model to models/kerasUnet2\n",
      "20/20 [==============================] - 8s 380ms/step - loss: 10.4363 - dice_coef: 0.7832 - recall: 0.7921 - precision: 0.8727 - val_loss: 1.3658 - val_dice_coef: 0.5349 - val_recall: 0.5342 - val_precision: 0.5535\n",
      "Epoch 18/120\n",
      "83/83 [==============================] - 1s 12ms/step - loss: 1.3418 - dice_coef: 0.5470 - recall: 0.5457 - precision: 0.5671\n",
      "\n",
      "Epoch 00018: saving model to models/kerasUnet2\n",
      "20/20 [==============================] - 8s 378ms/step - loss: 10.2306 - dice_coef: 0.7860 - recall: 0.7964 - precision: 0.8756 - val_loss: 1.3418 - val_dice_coef: 0.5470 - val_recall: 0.5457 - val_precision: 0.5671\n",
      "Epoch 19/120\n",
      "83/83 [==============================] - 1s 12ms/step - loss: 1.2534 - dice_coef: 0.5548 - recall: 0.5521 - precision: 0.5785\n",
      "\n",
      "Epoch 00019: saving model to models/kerasUnet2\n",
      "20/20 [==============================] - 8s 379ms/step - loss: 10.0656 - dice_coef: 0.7897 - recall: 0.7980 - precision: 0.8800 - val_loss: 1.2534 - val_dice_coef: 0.5548 - val_recall: 0.5521 - val_precision: 0.5785\n",
      "Epoch 20/120\n",
      "83/83 [==============================] - 1s 13ms/step - loss: 1.3918 - dice_coef: 0.5515 - recall: 0.5499 - precision: 0.5622\n",
      "\n",
      "Epoch 00020: saving model to models/kerasUnet2\n",
      "20/20 [==============================] - 8s 382ms/step - loss: 9.7899 - dice_coef: 0.7964 - recall: 0.8056 - precision: 0.8799 - val_loss: 1.3918 - val_dice_coef: 0.5515 - val_recall: 0.5499 - val_precision: 0.5622\n",
      "Epoch 21/120\n",
      "83/83 [==============================] - 1s 12ms/step - loss: 1.3697 - dice_coef: 0.5552 - recall: 0.5521 - precision: 0.5692\n",
      "\n",
      "Epoch 00021: saving model to models/kerasUnet2\n",
      "20/20 [==============================] - 8s 383ms/step - loss: 10.1352 - dice_coef: 0.7886 - recall: 0.7949 - precision: 0.8795 - val_loss: 1.3697 - val_dice_coef: 0.5552 - val_recall: 0.5521 - val_precision: 0.5692\n",
      "Epoch 22/120\n",
      "83/83 [==============================] - 1s 12ms/step - loss: 1.2878 - dice_coef: 0.5732 - recall: 0.5699 - precision: 0.5939\n",
      "\n",
      "Epoch 00022: saving model to models/kerasUnet2\n",
      "20/20 [==============================] - 8s 382ms/step - loss: 9.8501 - dice_coef: 0.7956 - recall: 0.8059 - precision: 0.8774 - val_loss: 1.2878 - val_dice_coef: 0.5732 - val_recall: 0.5699 - val_precision: 0.5939\n",
      "Epoch 23/120\n",
      "83/83 [==============================] - 1s 12ms/step - loss: 1.2122 - dice_coef: 0.5806 - recall: 0.5767 - precision: 0.6105\n",
      "\n",
      "Epoch 00023: saving model to models/kerasUnet2\n",
      "20/20 [==============================] - 8s 380ms/step - loss: 9.6129 - dice_coef: 0.7989 - recall: 0.8038 - precision: 0.8875 - val_loss: 1.2122 - val_dice_coef: 0.5806 - val_recall: 0.5767 - val_precision: 0.6105\n",
      "Epoch 24/120\n",
      "83/83 [==============================] - 1s 12ms/step - loss: 1.3861 - dice_coef: 0.5664 - recall: 0.5636 - precision: 0.5833\n",
      "\n",
      "Epoch 00024: saving model to models/kerasUnet2\n",
      "20/20 [==============================] - 8s 378ms/step - loss: 9.4020 - dice_coef: 0.8034 - recall: 0.8135 - precision: 0.8849 - val_loss: 1.3861 - val_dice_coef: 0.5664 - val_recall: 0.5636 - val_precision: 0.5833\n",
      "Epoch 25/120\n",
      "83/83 [==============================] - 1s 12ms/step - loss: 1.2925 - dice_coef: 0.5844 - recall: 0.5819 - precision: 0.6076\n",
      "\n",
      "Epoch 00025: saving model to models/kerasUnet2\n",
      "20/20 [==============================] - 8s 385ms/step - loss: 9.6510 - dice_coef: 0.7994 - recall: 0.8083 - precision: 0.8807 - val_loss: 1.2925 - val_dice_coef: 0.5844 - val_recall: 0.5819 - val_precision: 0.6076\n",
      "Epoch 26/120\n",
      "83/83 [==============================] - 1s 12ms/step - loss: 1.1665 - dice_coef: 0.5964 - recall: 0.5931 - precision: 0.6335\n",
      "\n",
      "Epoch 00026: saving model to models/kerasUnet2\n",
      "20/20 [==============================] - 8s 391ms/step - loss: 9.8453 - dice_coef: 0.7968 - recall: 0.8037 - precision: 0.8815 - val_loss: 1.1665 - val_dice_coef: 0.5964 - val_recall: 0.5931 - val_precision: 0.6335\n",
      "Epoch 27/120\n",
      "83/83 [==============================] - 1s 12ms/step - loss: 1.1731 - dice_coef: 0.6034 - recall: 0.6014 - precision: 0.6382\n",
      "\n",
      "Epoch 00027: saving model to models/kerasUnet2\n",
      "20/20 [==============================] - 8s 376ms/step - loss: 9.4799 - dice_coef: 0.8027 - recall: 0.8114 - precision: 0.8868 - val_loss: 1.1731 - val_dice_coef: 0.6034 - val_recall: 0.6014 - val_precision: 0.6382\n",
      "Epoch 28/120\n",
      "83/83 [==============================] - 1s 12ms/step - loss: 1.2425 - dice_coef: 0.6026 - recall: 0.5994 - precision: 0.6286\n",
      "\n",
      "Epoch 00028: saving model to models/kerasUnet2\n",
      "20/20 [==============================] - 8s 385ms/step - loss: 9.5693 - dice_coef: 0.8011 - recall: 0.8062 - precision: 0.8869 - val_loss: 1.2425 - val_dice_coef: 0.6026 - val_recall: 0.5994 - val_precision: 0.6286\n",
      "Epoch 29/120\n",
      "83/83 [==============================] - 1s 12ms/step - loss: 1.2905 - dice_coef: 0.5917 - recall: 0.5879 - precision: 0.6125\n",
      "\n",
      "Epoch 00029: saving model to models/kerasUnet2\n",
      "20/20 [==============================] - 8s 385ms/step - loss: 9.0500 - dice_coef: 0.8104 - recall: 0.8193 - precision: 0.8891 - val_loss: 1.2905 - val_dice_coef: 0.5917 - val_recall: 0.5879 - val_precision: 0.6125\n",
      "Epoch 30/120\n",
      "83/83 [==============================] - 1s 12ms/step - loss: 1.3684 - dice_coef: 0.5958 - recall: 0.5934 - precision: 0.6109\n",
      "\n",
      "Epoch 00030: saving model to models/kerasUnet2\n",
      "20/20 [==============================] - 8s 387ms/step - loss: 9.2180 - dice_coef: 0.8095 - recall: 0.8167 - precision: 0.8891 - val_loss: 1.3684 - val_dice_coef: 0.5958 - val_recall: 0.5934 - val_precision: 0.6109\n",
      "Epoch 31/120\n",
      "83/83 [==============================] - 1s 12ms/step - loss: 1.4141 - dice_coef: 0.5902 - recall: 0.5878 - precision: 0.6062\n",
      "\n",
      "Epoch 00031: saving model to models/kerasUnet2\n",
      "20/20 [==============================] - 8s 376ms/step - loss: 9.0389 - dice_coef: 0.8103 - recall: 0.8192 - precision: 0.8900 - val_loss: 1.4141 - val_dice_coef: 0.5902 - val_recall: 0.5878 - val_precision: 0.6062\n",
      "Epoch 32/120\n",
      "83/83 [==============================] - 1s 12ms/step - loss: 1.3973 - dice_coef: 0.5908 - recall: 0.5885 - precision: 0.6077\n",
      "\n",
      "Epoch 00032: saving model to models/kerasUnet2\n",
      "20/20 [==============================] - 8s 376ms/step - loss: 8.8227 - dice_coef: 0.8145 - recall: 0.8227 - precision: 0.8934 - val_loss: 1.3973 - val_dice_coef: 0.5908 - val_recall: 0.5885 - val_precision: 0.6077\n",
      "Epoch 33/120\n",
      "83/83 [==============================] - 1s 12ms/step - loss: 1.3809 - dice_coef: 0.5909 - recall: 0.5884 - precision: 0.6089\n",
      "\n",
      "Epoch 00033: saving model to models/kerasUnet2\n",
      "20/20 [==============================] - 8s 379ms/step - loss: 8.7618 - dice_coef: 0.8159 - recall: 0.8236 - precision: 0.8949 - val_loss: 1.3809 - val_dice_coef: 0.5909 - val_recall: 0.5884 - val_precision: 0.6089\n",
      "Epoch 34/120\n",
      "83/83 [==============================] - 1s 13ms/step - loss: 1.3595 - dice_coef: 0.5911 - recall: 0.5882 - precision: 0.6098\n",
      "\n",
      "Epoch 00034: saving model to models/kerasUnet2\n",
      "20/20 [==============================] - 8s 381ms/step - loss: 8.6319 - dice_coef: 0.8179 - recall: 0.8255 - precision: 0.8977 - val_loss: 1.3595 - val_dice_coef: 0.5911 - val_recall: 0.5882 - val_precision: 0.6098\n",
      "Epoch 35/120\n",
      "83/83 [==============================] - 1s 12ms/step - loss: 1.3511 - dice_coef: 0.5909 - recall: 0.5879 - precision: 0.6103\n",
      "\n",
      "Epoch 00035: saving model to models/kerasUnet2\n",
      "20/20 [==============================] - 8s 377ms/step - loss: 8.5526 - dice_coef: 0.8190 - recall: 0.8275 - precision: 0.8999 - val_loss: 1.3511 - val_dice_coef: 0.5909 - val_recall: 0.5879 - val_precision: 0.6103\n",
      "Epoch 36/120\n",
      " 1/20 [>.............................] - ETA: 5s - loss: 8.6857 - dice_coef: 0.8225 - recall: 0.8335 - precision: 0.8949"
     ]
    }
   ],
   "source": [
    "model.fit(\n",
    "    train_dataset,\n",
    "    validation_data=valid_dataset,\n",
    "    epochs=120,\n",
    "    callbacks=callbacks\n",
    ")"
   ]
  },
  {
   "cell_type": "code",
   "execution_count": null,
   "metadata": {},
   "outputs": [],
   "source": [
    "test_dataset = DataGenerator(datapath= DATAPATH, step='test', shuffle=False, preprocessing=mobilenet_v2.preprocess_input, image_size=IMAGESIZE)"
   ]
  },
  {
   "cell_type": "code",
   "execution_count": null,
   "metadata": {},
   "outputs": [],
   "source": []
  },
  {
   "cell_type": "code",
   "execution_count": null,
   "metadata": {},
   "outputs": [],
   "source": [
    "pred = model.predict(test_dataset)"
   ]
  },
  {
   "cell_type": "code",
   "execution_count": null,
   "metadata": {},
   "outputs": [],
   "source": [
    "model.evaluate(test_dataset)"
   ]
  },
  {
   "cell_type": "code",
   "execution_count": null,
   "metadata": {},
   "outputs": [],
   "source": [
    "x = test_dataset.images\n",
    "y = test_dataset.labels"
   ]
  },
  {
   "cell_type": "code",
   "execution_count": null,
   "metadata": {},
   "outputs": [],
   "source": [
    "viz_idx = 7\n",
    "plt.subplot(131)\n",
    "plt.imshow(x[viz_idx].squeeze())\n",
    "plt.subplot(132)\n",
    "plt.imshow(np.argmax(pred[viz_idx], -1).squeeze())\n",
    "plt.subplot(133)\n",
    "plt.imshow(np.argmax(y[viz_idx], -1).squeeze())\n"
   ]
  },
  {
   "cell_type": "code",
   "execution_count": null,
   "metadata": {},
   "outputs": [],
   "source": [
    "model.compile(loss='categorical_crossentropy', optimizer=opt, metrics=metrics)\n",
    "model.save_weights('models/unet2_weights.h5')"
   ]
  },
  {
   "cell_type": "code",
   "execution_count": null,
   "metadata": {},
   "outputs": [],
   "source": []
  }
 ],
 "metadata": {
  "kernelspec": {
   "display_name": "datathon",
   "language": "python",
   "name": "datathon"
  },
  "language_info": {
   "codemirror_mode": {
    "name": "ipython",
    "version": 3
   },
   "file_extension": ".py",
   "mimetype": "text/x-python",
   "name": "python",
   "nbconvert_exporter": "python",
   "pygments_lexer": "ipython3",
   "version": "3.6.8"
  }
 },
 "nbformat": 4,
 "nbformat_minor": 4
}
