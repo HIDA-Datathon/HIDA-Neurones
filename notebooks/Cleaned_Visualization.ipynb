{
 "cells": [
  {
   "cell_type": "code",
   "execution_count": 4,
   "metadata": {},
   "outputs": [],
   "source": [
    "from PIL import Image, ImageFont, ImageDraw \n",
    "import numpy as np\n",
    "import pandas as pd\n",
    "\n",
    "import colorsys\n",
    "import random"
   ]
  },
  {
   "cell_type": "code",
   "execution_count": 14,
   "metadata": {},
   "outputs": [],
   "source": [
    "# Variables:\n",
    "seed_for_colors = 42\n",
    "original_image_path = \"/Users/benne/Downloads/HIDA-ufz_image_challenge/photos_annotated/2019_0626_080253_001.jpg.jpg\"\n",
    "annotated_image_path = \"/Users/benne/Downloads/HIDA-ufz_image_challenge/photos_annotated/2019_0626_080253_001.jpg.png\"\n",
    "feature_legend_path = \"/Users/benne/Downloads/HIDA-ufz_image_challenge/features_legend.csv\"\n",
    "outcome_path = \"example.png\""
   ]
  },
  {
   "cell_type": "code",
   "execution_count": 15,
   "metadata": {},
   "outputs": [],
   "source": [
    "# Generate random colors:\n",
    "def random_colors(N, bright=True):\n",
    "    \"\"\"\n",
    "    Generate random colors.\n",
    "    To get visually distinct colors, generate them in HSV space then\n",
    "    convert to RGB.\n",
    "    \"\"\"\n",
    "    brightness = 1.0 if bright else 0.7\n",
    "    hsv = [(i / N, 1, brightness) for i in range(N)]\n",
    "    colors = list(map(lambda c: colorsys.hsv_to_rgb(*c), hsv))\n",
    "    random.shuffle(colors)\n",
    "    return colors"
   ]
  },
  {
   "cell_type": "code",
   "execution_count": 20,
   "metadata": {},
   "outputs": [],
   "source": [
    "def visualize(original_image_path: str, annotated_image_path: str,feature_legend_path: str, outcome_path: str, seed = 42):\n",
    "    # load original image and image with annotations\n",
    "    original_image = Image.open(original_image_path)\n",
    "    image_annotations = Image.open(annotated_image_path).convert('RGB')\n",
    "    \n",
    "    # set annotated image to semi-transparent\n",
    "    image_annotations.putalpha(alpha = 128)\n",
    "    \n",
    "    # create nice looking colors\n",
    "    random.seed(seed)\n",
    "    colors = random_colors(20)\n",
    "    \n",
    "    # transform image so one can work with it\n",
    "    image_transformed = np.array(image_annotations)\n",
    "\n",
    "    height = np.array(image_annotations).shape[0]\n",
    "    width = np.array(image_annotations).shape[1]\n",
    "\n",
    "    image_transformed = image_transformed.reshape(height*width, 4)\n",
    "\n",
    "    # Make black pixels transparent:\n",
    "    image_transformed = [[0, 0, 0, 0]  if v == [0, 0, 0, 128] else v for v in image_transformed.tolist()]\n",
    "\n",
    "    # Resetting RGB ID's to nice colors:\n",
    "    for i in range(1,21) :\n",
    "        r = colors\n",
    "        image_transformed = [[colors[i][0]*255, colors[i][1]*255, colors[i][2]*255, 128]  if v == [i, i, i, 128] else v for v in image_transformed]\n",
    "\n",
    "\n",
    "    #Reshape and make it Image type again\n",
    "    image_transformed = np.array(image_transformed, dtype = 'uint8')\n",
    "    image_transformed = image_transformed.reshape(height, width, 4)\n",
    "    \n",
    "    #Put original image in the background and paste annotations over it\n",
    "\n",
    "    img = Image.fromarray(image_transformed)\n",
    "    background = original_image\n",
    "    background.putalpha(alpha = 255)\n",
    "    background.paste(img, (0, 0), img)\n",
    "    \n",
    "    output_image_without_writing = background\n",
    "    \n",
    "    # Calculate percentages\n",
    "    rgb_ids = pd.read_csv(feature_legend_path)\n",
    "    \n",
    "    image_annotations = Image.open(annotated_image_path).convert('RGB')\n",
    "    image_annotations = np.array(image_annotations)\n",
    "    height = np.array(image_annotations).shape[0]\n",
    "    width = np.array(image_annotations).shape[1]\n",
    "\n",
    "    image_for_counting = image_annotations.reshape(height*width, 3).tolist()\n",
    "    \n",
    "    rgb_ids['percentage'] = 0\n",
    "    for i in range(1, 21):\n",
    "        rgb_ids['percentage'][rgb_ids['id_rgb'] == i] = (image_for_counting.count([i, i, i])/(height*width))*100\n",
    "    \n",
    "    # Write percentages on image\n",
    "    dataframe_for_writing = rgb_ids[rgb_ids['percentage'] > 0]\n",
    "    \n",
    "    #Select Arial as font\n",
    "    title_font = ImageFont.truetype(r'C:\\Users\\System-Pc\\Desktop\\arial.ttf', 20)\n",
    "\n",
    "    for i in range(0, dataframe_for_writing.shape[0]):\n",
    "        title_text = f\"{dataframe_for_writing[' label'].iloc[i]}: {round(dataframe_for_writing['percentage'].iloc[i], 2)}%\"\n",
    "\n",
    "        image_editable = ImageDraw.Draw(output_image_without_writing)\n",
    "        image_editable.text((15,15 + i*25), title_text, (0, 0, 0), font=title_font)\n",
    "        \n",
    "    output_image = output_image_without_writing\n",
    "    \n",
    "    output_image.save(outcome_path, \"PNG\")"
   ]
  },
  {
   "cell_type": "code",
   "execution_count": 21,
   "metadata": {},
   "outputs": [
    {
     "name": "stderr",
     "output_type": "stream",
     "text": [
      "C:\\Users\\benne\\anaconda3\\lib\\site-packages\\ipykernel_launcher.py:55: SettingWithCopyWarning: \n",
      "A value is trying to be set on a copy of a slice from a DataFrame\n",
      "\n",
      "See the caveats in the documentation: https://pandas.pydata.org/pandas-docs/stable/user_guide/indexing.html#returning-a-view-versus-a-copy\n",
      "C:\\Users\\benne\\anaconda3\\lib\\site-packages\\ipykernel_launcher.py:55: SettingWithCopyWarning: \n",
      "A value is trying to be set on a copy of a slice from a DataFrame\n",
      "\n",
      "See the caveats in the documentation: https://pandas.pydata.org/pandas-docs/stable/user_guide/indexing.html#returning-a-view-versus-a-copy\n"
     ]
    }
   ],
   "source": [
    "visualize(original_image_path, annotated_image_path, feature_legend_path, outcome_path, seed_for_colors)"
   ]
  }
 ],
 "metadata": {
  "kernelspec": {
   "display_name": "Python 3",
   "language": "python",
   "name": "python3"
  },
  "language_info": {
   "codemirror_mode": {
    "name": "ipython",
    "version": 3
   },
   "file_extension": ".py",
   "mimetype": "text/x-python",
   "name": "python",
   "nbconvert_exporter": "python",
   "pygments_lexer": "ipython3",
   "version": "3.7.9"
  }
 },
 "nbformat": 4,
 "nbformat_minor": 4
}
