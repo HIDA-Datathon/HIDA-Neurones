{
 "cells": [
  {
   "cell_type": "code",
   "execution_count": 1,
   "metadata": {},
   "outputs": [],
   "source": [
    "import glob\n",
    "from PIL import Image\n",
    "import json\n",
    "import numpy as np\n",
    "import os\n",
    "import pytorch_lightning as pl\n",
    "from torch.utils.data import DataLoader, Dataset\n",
    "import torch"
   ]
  },
  {
   "cell_type": "code",
   "execution_count": 17,
   "metadata": {},
   "outputs": [],
   "source": [
    "class NeutronDataset(Dataset):\n",
    "    def __init__(self, data, target, transform=None):\n",
    "        self.data = torch.from_numpy(data).float()\n",
    "        self.target = torch.from_numpy(target).float()\n",
    "        self.transform = transform\n",
    "\n",
    "\n",
    "    def __getitem__(self, index):\n",
    "        x = self.data[index]\n",
    "        y = self.target[index]\n",
    "\n",
    "        if self.transform:\n",
    "            x = self.transform(x)\n",
    "            y = self.transform(y)\n",
    "\n",
    "        return x, y[:1]\n",
    "\n",
    "    def __len__(self):\n",
    "        return len(self.data)\n",
    "\n",
    "\n",
    "class QGDataLoader(pl.LightningDataModule):\n",
    "    def __init__(self, data_dir: str = \"C:/Users/Tobias/Downloads/HIDA-ufz_image_challenge/photos_annotated\", batch_size: int = 64,\n",
    "                 num_workers: int = 8, transform=None):\n",
    "        super().__init__()\n",
    "        \n",
    "        self.LABEL_SUFFIX = \"*.png\"\n",
    "        self.IMAGE_SUFFIX = \"*.jpg\"\n",
    "\n",
    "        self.channels = None\n",
    "        self.image_shape = None\n",
    "        self.train_data = None\n",
    "        self.valid_data = None\n",
    "        self.test_data = None\n",
    "\n",
    "        self.data_dir = data_dir\n",
    "        self.batch_size = batch_size\n",
    "        self.num_workers = num_workers\n",
    "        self.transform = transform\n",
    "        \n",
    "    def load_data(self):\n",
    "        images = sorted(glob.glob(os.path.join(self.data_dir, self.IMAGE_SUFFIX)))\n",
    "        labels = sorted(glob.glob(os.path.join(self.data_dir, self.LABEL_SUFFIX)))\n",
    "        \n",
    "        image_array = []\n",
    "        label_array = []\n",
    "        \n",
    "        for image_file, label_file in zip(images, labels):\n",
    "            image_array.append(np.array(Image.open(image_file)))\n",
    "            this_label = np.array(Image.open(label_file))\n",
    "            if len(this_label.shape) == 2:\n",
    "                label_array.append(this_label)\n",
    "            elif len(this_label.shape) == 3:\n",
    "                label_array.append(this_label[:, :, 0])\n",
    "            else:\n",
    "                print(\"Error\")\n",
    "            \n",
    "            \n",
    "        return np.array(image_array), np.array(label_array)\n",
    "\n",
    "    def setup(self, stage=None):\n",
    "\n",
    "        image_array, label_array = self.load_data()\n",
    "        \n",
    "        length = image_array.shape[0]\n",
    "\n",
    "\n",
    "        train_split_start = 0\n",
    "        train_split_end = int(length * 0.8)\n",
    "        valid_split_start = train_split_end\n",
    "        valid_split_end = int(length * 0.9)\n",
    "        test_split_start = valid_split_end\n",
    "        test_split_end = length\n",
    "\n",
    "        if stage == 'fit' or stage is None:\n",
    "            self.train_data = NeutronDataset(image_array[train_split_start: train_split_end],\n",
    "                                            label_array[train_split_start: train_split_end],\n",
    "                                            transform=self.transform)\n",
    "            self.valid_data = NeutronDataset(image_array[valid_split_start: valid_split_end],\n",
    "                                            label_array[valid_split_start: valid_split_end],\n",
    "                                            transform=self.transform)\n",
    "\n",
    "        # Assign test dataset for use in dataloader(s)\n",
    "        if stage == 'test' or stage is None:\n",
    "            self.test_data = NeutronDataset(image_array[test_split_start: test_split_end],\n",
    "                                            label_array[test_split_start: test_split_end],\n",
    "                                           transform=self.transform)\n",
    "\n",
    "    def train_dataloader(self):\n",
    "        return DataLoader(self.train_data, batch_size=self.batch_size, num_workers=self.num_workers, shuffle=True)\n",
    "\n",
    "    def val_dataloader(self):\n",
    "        return DataLoader(self.valid_data, batch_size=self.batch_size, num_workers=self.num_workers, shuffle=False)\n",
    "\n",
    "    def test_dataloader(self):\n",
    "        return DataLoader(self.test_data, batch_size=self.batch_size, num_workers=self.num_workers, shuffle=False)\n"
   ]
  },
  {
   "cell_type": "code",
   "execution_count": 18,
   "metadata": {},
   "outputs": [],
   "source": [
    "dl = QGDataLoader()\n",
    "dl.setup()"
   ]
  },
  {
   "cell_type": "code",
   "execution_count": 19,
   "metadata": {},
   "outputs": [
    {
     "data": {
      "text/plain": [
       "<__main__.NeutronDataset at 0x238315b11f0>"
      ]
     },
     "execution_count": 19,
     "metadata": {},
     "output_type": "execute_result"
    }
   ],
   "source": [
    "dl.train_data"
   ]
  },
  {
   "cell_type": "code",
   "execution_count": null,
   "metadata": {},
   "outputs": [],
   "source": []
  }
 ],
 "metadata": {
  "kernelspec": {
   "display_name": "Neutrons-Net",
   "language": "python",
   "name": "neutrons-net"
  },
  "language_info": {
   "codemirror_mode": {
    "name": "ipython",
    "version": 3
   },
   "file_extension": ".py",
   "mimetype": "text/x-python",
   "name": "python",
   "nbconvert_exporter": "python",
   "pygments_lexer": "ipython3",
   "version": "3.6.2"
  }
 },
 "nbformat": 4,
 "nbformat_minor": 4
}
