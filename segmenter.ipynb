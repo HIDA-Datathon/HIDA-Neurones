{
 "cells": [
  {
   "cell_type": "markdown",
   "metadata": {},
   "source": [
    "# Image Segmentation"
   ]
  },
  {
   "cell_type": "code",
   "execution_count": 1,
   "metadata": {},
   "outputs": [],
   "source": [
    "import ipywidgets as widgets\n",
    "import numpy as np\n",
    "from PIL import Image\n",
    "import io\n",
    "import matplotlib.pyplot as plt\n",
    "import tensorflow as tf\n",
    "from tensorflow.keras.applications import mobilenet_v2\n",
    "\n",
    "import sys\n",
    "sys.path.insert(0,'.')\n",
    "\n",
    "from src.utils import keras_losses as loss"
   ]
  },
  {
   "cell_type": "code",
   "execution_count": 2,
   "metadata": {},
   "outputs": [],
   "source": [
    "def setup_model(path='notebooks/models/unet2_weights.h5'):\n",
    "    model = loss.make_model(image_size=(224, 224))\n",
    "    model.compile(loss=loss.BCE_dice, optimizer='sgd', metrics=['accuracy'])\n",
    "    model.load_weights(path)\n",
    "    return model"
   ]
  },
  {
   "cell_type": "code",
   "execution_count": 3,
   "metadata": {},
   "outputs": [
    {
     "name": "stdout",
     "output_type": "stream",
     "text": [
      "WARNING:tensorflow:From C:\\Users\\simon\\.julia\\conda\\3\\envs\\hidaneurones\\lib\\site-packages\\tensorflow_core\\python\\ops\\resource_variable_ops.py:1630: calling BaseResourceVariable.__init__ (from tensorflow.python.ops.resource_variable_ops) with constraint is deprecated and will be removed in a future version.\n",
      "Instructions for updating:\n",
      "If using Keras pass *_constraint arguments to layers.\n"
     ]
    }
   ],
   "source": [
    "model = setup_model()"
   ]
  },
  {
   "cell_type": "code",
   "execution_count": 4,
   "metadata": {},
   "outputs": [],
   "source": [
    "def img_inference(img, model):\n",
    "    img = np.array(img)[None, :, :, :]\n",
    "    img = tf.keras.applications.mobilenet_v2.preprocess_input(img)\n",
    "    pre = model.predict(img)\n",
    "\n",
    "    pre = np.argmax(pre, axis=-1).squeeze()\n",
    "    \n",
    "    return pre"
   ]
  },
  {
   "cell_type": "code",
   "execution_count": 5,
   "metadata": {},
   "outputs": [],
   "source": [
    "#learn_inf = load_learner('export(1).pkl')\n",
    "\n",
    "def on_click_classify(change):\n",
    "    img = Image.open(io.BytesIO(btn_upload.data[-1]))\n",
    "    img = img.resize((224, 224))\n",
    "    pred = img_inference(img, model)\n",
    "    \n",
    "    pred = pred.squeeze()\n",
    "    with image_pl: \n",
    "        display(img)\n",
    "\n",
    "    with prediction_pl: \n",
    "        display(Image.fromarray(pred.astype(int)))\n",
    "\n",
    "\n",
    "btn_upload = widgets.FileUpload()\n",
    "image_pl = widgets.Output()\n",
    "prediction_pl = widgets.Output()\n",
    "lbl_pred = widgets.Label()\n",
    "lbl_pred.value = \"Select an image for Classification!\"\n",
    "btn_run = widgets.Button(description='Classify')\n",
    "btn_run.on_click(on_click_classify)"
   ]
  },
  {
   "cell_type": "code",
   "execution_count": 6,
   "metadata": {},
   "outputs": [
    {
     "data": {
      "application/vnd.jupyter.widget-view+json": {
       "model_id": "33910ff7278a4acc8c14037b9075967d",
       "version_major": 2,
       "version_minor": 0
      },
      "text/plain": [
       "VBox(children=(FileUpload(value={}, description='Upload'), Button(description='Classify', style=ButtonStyle())…"
      ]
     },
     "metadata": {},
     "output_type": "display_data"
    }
   ],
   "source": [
    "widgets.VBox([btn_upload, btn_run])"
   ]
  },
  {
   "cell_type": "code",
   "execution_count": 7,
   "metadata": {},
   "outputs": [
    {
     "data": {
      "application/vnd.jupyter.widget-view+json": {
       "model_id": "8b4b69ccf6a947b3a7c93a79b8a25879",
       "version_major": 2,
       "version_minor": 0
      },
      "text/plain": [
       "HBox(children=(Output(), Output()))"
      ]
     },
     "metadata": {},
     "output_type": "display_data"
    }
   ],
   "source": [
    "widgets.HBox([image_pl, prediction_pl])"
   ]
  },
  {
   "cell_type": "code",
   "execution_count": null,
   "metadata": {},
   "outputs": [],
   "source": []
  }
 ],
 "metadata": {
  "kernelspec": {
   "display_name": "Python hidaneurones",
   "language": "python",
   "name": "hidaneurones"
  },
  "language_info": {
   "codemirror_mode": {
    "name": "ipython",
    "version": 3
   },
   "file_extension": ".py",
   "mimetype": "text/x-python",
   "name": "python",
   "nbconvert_exporter": "python",
   "pygments_lexer": "ipython3",
   "version": "3.7.9"
  }
 },
 "nbformat": 4,
 "nbformat_minor": 4
}
